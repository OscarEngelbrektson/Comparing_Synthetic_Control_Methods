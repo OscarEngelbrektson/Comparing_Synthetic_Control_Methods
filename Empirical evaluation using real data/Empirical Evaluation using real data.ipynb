{
 "cells": [
  {
   "cell_type": "markdown",
   "metadata": {},
   "source": [
    "# Empirical evaluation using real data\n",
    "\n",
    "Whilst simulating data offers unparalleled control of testing conditions, it carries with it the risk that the synthetic data generation procedure is not representative of the generative procedures underlying the real-world datasets on which the models are applied in practice. As such, a means by which to complement simulation based approaches with evaluation of model performance on real datasets is highly desirable. Unfortunately, because of the fundamental problem of causal inference, we may never observe a true counterfactual against which to compare our models. To overcome this limitation, I propose to fit models to units where the estimated quantity is the observed potential outcome, namely control units. Specifically, we isolate one control unit in a dataset used for SC, pretend it was subjected to a treatment at some time T0, and fit a synthetic control unit to it using the remaining control units as the donor pool. Because the control unit never received the treatment, the true treatment effect is zero. Consequently, we can compare models based on how close, as measured using RMSPE, the synthetic control units are to the observed post-treatment outcome. We repeat this procedure for every control unit across several datasets from published studies applying synthetic control methodology, such that the assumptions of the model hold for the units in the dataset, and report the pre-treatment RMSPE, the post-treatment RMSPE, and the pre/post-treatment RMSPE ratio for the SC, SDID and DSC.\n",
    "\n",
    "N.B.: Remaining subsections under this section are unfinished"
   ]
  },
  {
   "cell_type": "code",
   "execution_count": 30,
   "metadata": {},
   "outputs": [],
   "source": [
    "import pandas as pd\n",
    "import numpy as np\n",
    "from SyntheticControlMethods import Synth, DiffSynth\n",
    "import pandas_profiling as pp\n",
    "import matplotlib.pyplot as plt"
   ]
  },
  {
   "cell_type": "code",
   "execution_count": 276,
   "metadata": {},
   "outputs": [],
   "source": [
    "def compare_and_save(storage_df, dataset_loc, \n",
    "                     outcome_var, id_var, time_var,\n",
    "                     treatment_period, treated_unit,\n",
    "                     n_optim=10, ignore_cols = None):\n",
    "    '''\n",
    "    Approach:\n",
    "    1. Take a dataset, drop the treated unit\n",
    "    2. For each control unit:\n",
    "        1. Fit Synthetic control using other control units as donor pool, record RMSPE\n",
    "        2. Same but with Differenced Synthetic Control\n",
    "    3. Repeat above for all datasets\n",
    "    '''\n",
    "    \n",
    "    #Get models\n",
    "    models = [Synth, DiffSynth]\n",
    "    model_names = [\"SC\", \"DSC\"]\n",
    "    \n",
    "    #Get data\n",
    "    data_dir = \"https://raw.githubusercontent.com/OscarEngelbrektson/SyntheticControlMethods/master/examples/datasets/\"\n",
    "    df = pd.read_csv(data_dir + dataset_loc + \".csv\")\n",
    "    df = df.loc[df[id_var] != treated_unit] #Drop treated_unit\n",
    "    \n",
    "    #Extract names of all control units\n",
    "    units = df[id_var].unique()\n",
    "    for unit in units: #For every control unit\n",
    "        for model_name, model in zip(model_names, models): #For both SC and DSC\n",
    "            \n",
    "            if model_name == \"SC\":\n",
    "                #Fit SC\n",
    "                synth = model(df, outcome_var, id_var, time_var, treatment_period, unit, n_optim=n_optim)\n",
    "                #Save results\n",
    "                storage_df = store(storage_df, dataset_loc, unit, model_name, synth, constant=False)\n",
    "                \n",
    "            else: #if model is DiffSynth\n",
    "                #Fit DSC\n",
    "                synth = model(df, outcome_var, id_var, time_var, treatment_period, unit, \n",
    "                              ignore_cols=ignore_cols, n_optim=n_optim)\n",
    "                #Save results\n",
    "                storage_df = store(storage_df, dataset_loc, unit, model_name, synth, constant=True)\n",
    "    \n",
    "    #Store as csv\n",
    "    storage_df.to_csv(\"empirical_model_comparison.csv\", index=False, header=True)\n",
    "    #storage_df.to_parquet(\"empirical_model_comparison.csv\", index=False)\n",
    "    return storage_df\n",
    "    \n",
    "    \n",
    "def store(storage_df, dataset, unit, model, synth, constant):\n",
    "    '''Extract relevant model metrics and save to storage_df'''\n",
    "    #For convience\n",
    "    data = synth.original_data\n",
    "    #Make df with one observation\n",
    "    synth_df = pd.DataFrame({\"Dataset\": [dataset],\n",
    "                              \"Control Unit\": [unit],\n",
    "                              \"Method\": [model],\n",
    "                              \"Pre RMSPE\": [float(data.rmspe_df[\"pre_rmspe\"])],\n",
    "                              \"Post RMSPE\": [float(data.rmspe_df[\"post_rmspe\"])],\n",
    "                              \"Post/pre RMSPE ratio\": [float(data.rmspe_df[\"post/pre\"])],\n",
    "                              \"W\": [data.w],\n",
    "                              \"Constant\": [None if model == \"SC\" else data.synth_constant]})\n",
    "    \n",
    "    #Return storage_df with new observation appended to end\n",
    "    return pd.concat([storage_df, synth_df], axis=0)"
   ]
  },
  {
   "cell_type": "markdown",
   "metadata": {},
   "source": [
    "## Run for all datasets"
   ]
  },
  {
   "cell_type": "code",
   "execution_count": 277,
   "metadata": {},
   "outputs": [],
   "source": [
    "storage_df = pd.DataFrame({\"Dataset\": [],\n",
    "                              \"Control Unit\": [],\n",
    "                              \"Method\": [],\n",
    "                              \"Pre RMSPE\": [],\n",
    "                              \"Post RMSPE\": [],\n",
    "                              \"Post/pre RMSPE ratio\": [],\n",
    "                              \"W\":[],\n",
    "                              \"Constant\":[]})"
   ]
  },
  {
   "cell_type": "code",
   "execution_count": 278,
   "metadata": {},
   "outputs": [],
   "source": [
    "storage_df = compare_and_save(storage_df, \"smoking_data\",\n",
    "                 \"cigsale\", \"state\", \"year\", 1989, \"California\", 10)"
   ]
  },
  {
   "cell_type": "code",
   "execution_count": 279,
   "metadata": {},
   "outputs": [],
   "source": [
    "storage_df = compare_and_save(storage_df, \"german_reunification\", \n",
    "                 \"gdp\", \"country\", \"year\", 1990, \"West Germany\", \n",
    "                 10, [\"schooling\", \"invest60\", \"invest70\", \"invest80\"])"
   ]
  },
  {
   "cell_type": "markdown",
   "metadata": {},
   "source": [
    "# Analyze Results\n",
    "\n",
    "dimensions to analyse:\n",
    "1. Pre/post ratio\n",
    "2. Sparsity of w\n",
    "3. pre\n",
    "4. post\n",
    "\n",
    "Ideas: make violin plot that somehow shows pre,post and ratio for the groups in one"
   ]
  },
  {
   "cell_type": "code",
   "execution_count": 281,
   "metadata": {
    "scrolled": true
   },
   "outputs": [
    {
     "data": {
      "text/html": [
       "<div>\n",
       "<style scoped>\n",
       "    .dataframe tbody tr th:only-of-type {\n",
       "        vertical-align: middle;\n",
       "    }\n",
       "\n",
       "    .dataframe tbody tr th {\n",
       "        vertical-align: top;\n",
       "    }\n",
       "\n",
       "    .dataframe thead th {\n",
       "        text-align: right;\n",
       "    }\n",
       "</style>\n",
       "<table border=\"1\" class=\"dataframe\">\n",
       "  <thead>\n",
       "    <tr style=\"text-align: right;\">\n",
       "      <th></th>\n",
       "      <th>Dataset</th>\n",
       "      <th>Control Unit</th>\n",
       "      <th>Method</th>\n",
       "      <th>Pre RMSPE</th>\n",
       "      <th>Post RMSPE</th>\n",
       "      <th>Post/pre RMSPE ratio</th>\n",
       "      <th>W</th>\n",
       "      <th>Constant</th>\n",
       "    </tr>\n",
       "  </thead>\n",
       "  <tbody>\n",
       "    <tr>\n",
       "      <th>0</th>\n",
       "      <td>smoking_data</td>\n",
       "      <td>Alabama</td>\n",
       "      <td>SC</td>\n",
       "      <td>3.965645</td>\n",
       "      <td>5.956666</td>\n",
       "      <td>1.502067</td>\n",
       "      <td>[[0.38025488848883454], [0.004165472434911936]...</td>\n",
       "      <td>None</td>\n",
       "    </tr>\n",
       "    <tr>\n",
       "      <th>0</th>\n",
       "      <td>smoking_data</td>\n",
       "      <td>Alabama</td>\n",
       "      <td>DSC</td>\n",
       "      <td>4.279074</td>\n",
       "      <td>6.283651</td>\n",
       "      <td>1.468461</td>\n",
       "      <td>[[0.3360327458842858], [0.0009772583611889504]...</td>\n",
       "      <td>2.15009</td>\n",
       "    </tr>\n",
       "    <tr>\n",
       "      <th>0</th>\n",
       "      <td>smoking_data</td>\n",
       "      <td>Arkansas</td>\n",
       "      <td>SC</td>\n",
       "      <td>7.120046</td>\n",
       "      <td>8.945273</td>\n",
       "      <td>1.256350</td>\n",
       "      <td>[[0.11936930482620532], [4.4710621405929314e-0...</td>\n",
       "      <td>None</td>\n",
       "    </tr>\n",
       "    <tr>\n",
       "      <th>0</th>\n",
       "      <td>smoking_data</td>\n",
       "      <td>Arkansas</td>\n",
       "      <td>DSC</td>\n",
       "      <td>6.750812</td>\n",
       "      <td>8.004311</td>\n",
       "      <td>1.185681</td>\n",
       "      <td>[[0.1439317221935714], [2.943514591988524e-14]...</td>\n",
       "      <td>5.61507</td>\n",
       "    </tr>\n",
       "    <tr>\n",
       "      <th>0</th>\n",
       "      <td>smoking_data</td>\n",
       "      <td>Colorado</td>\n",
       "      <td>SC</td>\n",
       "      <td>7.369287</td>\n",
       "      <td>11.764764</td>\n",
       "      <td>1.596459</td>\n",
       "      <td>[[0.0], [3.1905894841445567e-06], [0.041372941...</td>\n",
       "      <td>None</td>\n",
       "    </tr>\n",
       "    <tr>\n",
       "      <th>0</th>\n",
       "      <td>smoking_data</td>\n",
       "      <td>Colorado</td>\n",
       "      <td>DSC</td>\n",
       "      <td>5.421089</td>\n",
       "      <td>6.380664</td>\n",
       "      <td>1.177008</td>\n",
       "      <td>[[0.0], [0.0001626029228510649], [0.0063896554...</td>\n",
       "      <td>-10.92</td>\n",
       "    </tr>\n",
       "    <tr>\n",
       "      <th>0</th>\n",
       "      <td>smoking_data</td>\n",
       "      <td>Connecticut</td>\n",
       "      <td>SC</td>\n",
       "      <td>5.849831</td>\n",
       "      <td>5.618941</td>\n",
       "      <td>0.960530</td>\n",
       "      <td>[[0.0], [0.0], [0.0], [0.0], [0.0], [0.0], [0....</td>\n",
       "      <td>None</td>\n",
       "    </tr>\n",
       "    <tr>\n",
       "      <th>0</th>\n",
       "      <td>smoking_data</td>\n",
       "      <td>Connecticut</td>\n",
       "      <td>DSC</td>\n",
       "      <td>5.031779</td>\n",
       "      <td>4.519762</td>\n",
       "      <td>0.898243</td>\n",
       "      <td>[[6.867459134129966e-17], [8.344884910980312e-...</td>\n",
       "      <td>8.70503</td>\n",
       "    </tr>\n",
       "    <tr>\n",
       "      <th>0</th>\n",
       "      <td>smoking_data</td>\n",
       "      <td>Delaware</td>\n",
       "      <td>SC</td>\n",
       "      <td>11.348322</td>\n",
       "      <td>31.870393</td>\n",
       "      <td>2.808379</td>\n",
       "      <td>[[0.006091967685261055], [0.006327293745788919...</td>\n",
       "      <td>None</td>\n",
       "    </tr>\n",
       "    <tr>\n",
       "      <th>0</th>\n",
       "      <td>smoking_data</td>\n",
       "      <td>Delaware</td>\n",
       "      <td>DSC</td>\n",
       "      <td>6.738533</td>\n",
       "      <td>11.512911</td>\n",
       "      <td>1.708519</td>\n",
       "      <td>[[0.01782207468762007], [0.00812277369588024],...</td>\n",
       "      <td>36.2903</td>\n",
       "    </tr>\n",
       "  </tbody>\n",
       "</table>\n",
       "</div>"
      ],
      "text/plain": [
       "        Dataset Control Unit Method  Pre RMSPE  Post RMSPE  \\\n",
       "0  smoking_data      Alabama     SC   3.965645    5.956666   \n",
       "0  smoking_data      Alabama    DSC   4.279074    6.283651   \n",
       "0  smoking_data     Arkansas     SC   7.120046    8.945273   \n",
       "0  smoking_data     Arkansas    DSC   6.750812    8.004311   \n",
       "0  smoking_data     Colorado     SC   7.369287   11.764764   \n",
       "0  smoking_data     Colorado    DSC   5.421089    6.380664   \n",
       "0  smoking_data  Connecticut     SC   5.849831    5.618941   \n",
       "0  smoking_data  Connecticut    DSC   5.031779    4.519762   \n",
       "0  smoking_data     Delaware     SC  11.348322   31.870393   \n",
       "0  smoking_data     Delaware    DSC   6.738533   11.512911   \n",
       "\n",
       "   Post/pre RMSPE ratio                                                  W  \\\n",
       "0              1.502067  [[0.38025488848883454], [0.004165472434911936]...   \n",
       "0              1.468461  [[0.3360327458842858], [0.0009772583611889504]...   \n",
       "0              1.256350  [[0.11936930482620532], [4.4710621405929314e-0...   \n",
       "0              1.185681  [[0.1439317221935714], [2.943514591988524e-14]...   \n",
       "0              1.596459  [[0.0], [3.1905894841445567e-06], [0.041372941...   \n",
       "0              1.177008  [[0.0], [0.0001626029228510649], [0.0063896554...   \n",
       "0              0.960530  [[0.0], [0.0], [0.0], [0.0], [0.0], [0.0], [0....   \n",
       "0              0.898243  [[6.867459134129966e-17], [8.344884910980312e-...   \n",
       "0              2.808379  [[0.006091967685261055], [0.006327293745788919...   \n",
       "0              1.708519  [[0.01782207468762007], [0.00812277369588024],...   \n",
       "\n",
       "  Constant  \n",
       "0     None  \n",
       "0  2.15009  \n",
       "0     None  \n",
       "0  5.61507  \n",
       "0     None  \n",
       "0   -10.92  \n",
       "0     None  \n",
       "0  8.70503  \n",
       "0     None  \n",
       "0  36.2903  "
      ]
     },
     "execution_count": 281,
     "metadata": {},
     "output_type": "execute_result"
    }
   ],
   "source": [
    "storage_df.head(10)"
   ]
  },
  {
   "cell_type": "code",
   "execution_count": 329,
   "metadata": {},
   "outputs": [
    {
     "data": {
      "text/html": [
       "<div>\n",
       "<style scoped>\n",
       "    .dataframe tbody tr th:only-of-type {\n",
       "        vertical-align: middle;\n",
       "    }\n",
       "\n",
       "    .dataframe tbody tr th {\n",
       "        vertical-align: top;\n",
       "    }\n",
       "\n",
       "    .dataframe thead th {\n",
       "        text-align: right;\n",
       "    }\n",
       "</style>\n",
       "<table border=\"1\" class=\"dataframe\">\n",
       "  <thead>\n",
       "    <tr style=\"text-align: right;\">\n",
       "      <th></th>\n",
       "      <th>Pre RMSPE</th>\n",
       "      <th>Post RMSPE</th>\n",
       "    </tr>\n",
       "    <tr>\n",
       "      <th>Method</th>\n",
       "      <th></th>\n",
       "      <th></th>\n",
       "    </tr>\n",
       "  </thead>\n",
       "  <tbody>\n",
       "    <tr>\n",
       "      <th>DSC</th>\n",
       "      <td>6.828512</td>\n",
       "      <td>15.347943</td>\n",
       "    </tr>\n",
       "    <tr>\n",
       "      <th>SC</th>\n",
       "      <td>9.805338</td>\n",
       "      <td>18.155258</td>\n",
       "    </tr>\n",
       "  </tbody>\n",
       "</table>\n",
       "</div>"
      ],
      "text/plain": [
       "        Pre RMSPE  Post RMSPE\n",
       "Method                       \n",
       "DSC      6.828512   15.347943\n",
       "SC       9.805338   18.155258"
      ]
     },
     "execution_count": 329,
     "metadata": {},
     "output_type": "execute_result"
    }
   ],
   "source": [
    "storage_df.groupby(\"Method\")[[\"Pre RMSPE\", \"Post RMSPE\"]].median()"
   ]
  },
  {
   "cell_type": "code",
   "execution_count": 305,
   "metadata": {
    "scrolled": false
   },
   "outputs": [
    {
     "data": {
      "text/html": [
       "<div>\n",
       "<style scoped>\n",
       "    .dataframe tbody tr th:only-of-type {\n",
       "        vertical-align: middle;\n",
       "    }\n",
       "\n",
       "    .dataframe tbody tr th {\n",
       "        vertical-align: top;\n",
       "    }\n",
       "\n",
       "    .dataframe thead th {\n",
       "        text-align: right;\n",
       "    }\n",
       "</style>\n",
       "<table border=\"1\" class=\"dataframe\">\n",
       "  <thead>\n",
       "    <tr style=\"text-align: right;\">\n",
       "      <th></th>\n",
       "      <th>count</th>\n",
       "      <th>mean</th>\n",
       "      <th>std</th>\n",
       "      <th>min</th>\n",
       "      <th>25%</th>\n",
       "      <th>50%</th>\n",
       "      <th>75%</th>\n",
       "      <th>max</th>\n",
       "    </tr>\n",
       "    <tr>\n",
       "      <th>Method</th>\n",
       "      <th></th>\n",
       "      <th></th>\n",
       "      <th></th>\n",
       "      <th></th>\n",
       "      <th></th>\n",
       "      <th></th>\n",
       "      <th></th>\n",
       "      <th></th>\n",
       "    </tr>\n",
       "  </thead>\n",
       "  <tbody>\n",
       "    <tr>\n",
       "      <th>DSC</th>\n",
       "      <td>54.0</td>\n",
       "      <td>561.427819</td>\n",
       "      <td>1115.915281</td>\n",
       "      <td>1.306473</td>\n",
       "      <td>7.590868</td>\n",
       "      <td>15.347943</td>\n",
       "      <td>740.902530</td>\n",
       "      <td>5303.768744</td>\n",
       "    </tr>\n",
       "    <tr>\n",
       "      <th>SC</th>\n",
       "      <td>54.0</td>\n",
       "      <td>587.630018</td>\n",
       "      <td>1197.787884</td>\n",
       "      <td>1.467441</td>\n",
       "      <td>8.953373</td>\n",
       "      <td>18.155258</td>\n",
       "      <td>751.938358</td>\n",
       "      <td>5229.718321</td>\n",
       "    </tr>\n",
       "  </tbody>\n",
       "</table>\n",
       "</div>"
      ],
      "text/plain": [
       "        count        mean          std       min       25%        50%  \\\n",
       "Method                                                                  \n",
       "DSC      54.0  561.427819  1115.915281  1.306473  7.590868  15.347943   \n",
       "SC       54.0  587.630018  1197.787884  1.467441  8.953373  18.155258   \n",
       "\n",
       "               75%          max  \n",
       "Method                           \n",
       "DSC     740.902530  5303.768744  \n",
       "SC      751.938358  5229.718321  "
      ]
     },
     "execution_count": 305,
     "metadata": {},
     "output_type": "execute_result"
    }
   ],
   "source": [
    "storage_df.groupby(\"Method\")[\"Post RMSPE\"].describe()"
   ]
  },
  {
   "cell_type": "code",
   "execution_count": 306,
   "metadata": {
    "scrolled": true
   },
   "outputs": [
    {
     "data": {
      "text/html": [
       "<div>\n",
       "<style scoped>\n",
       "    .dataframe tbody tr th:only-of-type {\n",
       "        vertical-align: middle;\n",
       "    }\n",
       "\n",
       "    .dataframe tbody tr th {\n",
       "        vertical-align: top;\n",
       "    }\n",
       "\n",
       "    .dataframe thead th {\n",
       "        text-align: right;\n",
       "    }\n",
       "</style>\n",
       "<table border=\"1\" class=\"dataframe\">\n",
       "  <thead>\n",
       "    <tr style=\"text-align: right;\">\n",
       "      <th></th>\n",
       "      <th>count</th>\n",
       "      <th>mean</th>\n",
       "      <th>std</th>\n",
       "      <th>min</th>\n",
       "      <th>25%</th>\n",
       "      <th>50%</th>\n",
       "      <th>75%</th>\n",
       "      <th>max</th>\n",
       "    </tr>\n",
       "    <tr>\n",
       "      <th>Method</th>\n",
       "      <th></th>\n",
       "      <th></th>\n",
       "      <th></th>\n",
       "      <th></th>\n",
       "      <th></th>\n",
       "      <th></th>\n",
       "      <th></th>\n",
       "      <th></th>\n",
       "    </tr>\n",
       "  </thead>\n",
       "  <tbody>\n",
       "    <tr>\n",
       "      <th>DSC</th>\n",
       "      <td>54.0</td>\n",
       "      <td>117.167535</td>\n",
       "      <td>237.595254</td>\n",
       "      <td>2.130295</td>\n",
       "      <td>4.280585</td>\n",
       "      <td>6.828512</td>\n",
       "      <td>130.765594</td>\n",
       "      <td>1195.28902</td>\n",
       "    </tr>\n",
       "    <tr>\n",
       "      <th>SC</th>\n",
       "      <td>54.0</td>\n",
       "      <td>157.876590</td>\n",
       "      <td>372.978534</td>\n",
       "      <td>2.792466</td>\n",
       "      <td>5.946089</td>\n",
       "      <td>9.805338</td>\n",
       "      <td>119.008771</td>\n",
       "      <td>1772.21183</td>\n",
       "    </tr>\n",
       "  </tbody>\n",
       "</table>\n",
       "</div>"
      ],
      "text/plain": [
       "        count        mean         std       min       25%       50%  \\\n",
       "Method                                                                \n",
       "DSC      54.0  117.167535  237.595254  2.130295  4.280585  6.828512   \n",
       "SC       54.0  157.876590  372.978534  2.792466  5.946089  9.805338   \n",
       "\n",
       "               75%         max  \n",
       "Method                          \n",
       "DSC     130.765594  1195.28902  \n",
       "SC      119.008771  1772.21183  "
      ]
     },
     "execution_count": 306,
     "metadata": {},
     "output_type": "execute_result"
    }
   ],
   "source": [
    "storage_df.groupby(\"Method\")[\"Pre RMSPE\"].describe()"
   ]
  },
  {
   "cell_type": "markdown",
   "metadata": {},
   "source": [
    "## Segregating by Dataset too"
   ]
  },
  {
   "cell_type": "code",
   "execution_count": 331,
   "metadata": {
    "scrolled": true
   },
   "outputs": [
    {
     "data": {
      "text/html": [
       "<div>\n",
       "<style scoped>\n",
       "    .dataframe tbody tr th:only-of-type {\n",
       "        vertical-align: middle;\n",
       "    }\n",
       "\n",
       "    .dataframe tbody tr th {\n",
       "        vertical-align: top;\n",
       "    }\n",
       "\n",
       "    .dataframe thead th {\n",
       "        text-align: right;\n",
       "    }\n",
       "</style>\n",
       "<table border=\"1\" class=\"dataframe\">\n",
       "  <thead>\n",
       "    <tr style=\"text-align: right;\">\n",
       "      <th></th>\n",
       "      <th></th>\n",
       "      <th>count</th>\n",
       "      <th>mean</th>\n",
       "      <th>std</th>\n",
       "      <th>min</th>\n",
       "      <th>25%</th>\n",
       "      <th>50%</th>\n",
       "      <th>75%</th>\n",
       "      <th>max</th>\n",
       "    </tr>\n",
       "    <tr>\n",
       "      <th>Dataset</th>\n",
       "      <th>Method</th>\n",
       "      <th></th>\n",
       "      <th></th>\n",
       "      <th></th>\n",
       "      <th></th>\n",
       "      <th></th>\n",
       "      <th></th>\n",
       "      <th></th>\n",
       "      <th></th>\n",
       "    </tr>\n",
       "  </thead>\n",
       "  <tbody>\n",
       "    <tr>\n",
       "      <th rowspan=\"2\" valign=\"top\">german_reunification</th>\n",
       "      <th>DSC</th>\n",
       "      <td>16.0</td>\n",
       "      <td>380.412459</td>\n",
       "      <td>307.210567</td>\n",
       "      <td>95.551032</td>\n",
       "      <td>178.694113</td>\n",
       "      <td>263.957721</td>\n",
       "      <td>433.561071</td>\n",
       "      <td>1195.289020</td>\n",
       "    </tr>\n",
       "    <tr>\n",
       "      <th>SC</th>\n",
       "      <td>16.0</td>\n",
       "      <td>505.679761</td>\n",
       "      <td>554.708520</td>\n",
       "      <td>90.542097</td>\n",
       "      <td>150.131622</td>\n",
       "      <td>245.470983</td>\n",
       "      <td>551.193395</td>\n",
       "      <td>1772.211830</td>\n",
       "    </tr>\n",
       "    <tr>\n",
       "      <th rowspan=\"2\" valign=\"top\">smoking_data</th>\n",
       "      <th>DSC</th>\n",
       "      <td>38.0</td>\n",
       "      <td>6.327567</td>\n",
       "      <td>4.157620</td>\n",
       "      <td>2.130295</td>\n",
       "      <td>3.470067</td>\n",
       "      <td>5.070766</td>\n",
       "      <td>7.227003</td>\n",
       "      <td>20.053207</td>\n",
       "    </tr>\n",
       "    <tr>\n",
       "      <th>SC</th>\n",
       "      <td>38.0</td>\n",
       "      <td>11.433149</td>\n",
       "      <td>13.810057</td>\n",
       "      <td>2.792466</td>\n",
       "      <td>4.978909</td>\n",
       "      <td>7.320021</td>\n",
       "      <td>10.796258</td>\n",
       "      <td>71.434098</td>\n",
       "    </tr>\n",
       "  </tbody>\n",
       "</table>\n",
       "</div>"
      ],
      "text/plain": [
       "                             count        mean         std        min  \\\n",
       "Dataset              Method                                             \n",
       "german_reunification DSC      16.0  380.412459  307.210567  95.551032   \n",
       "                     SC       16.0  505.679761  554.708520  90.542097   \n",
       "smoking_data         DSC      38.0    6.327567    4.157620   2.130295   \n",
       "                     SC       38.0   11.433149   13.810057   2.792466   \n",
       "\n",
       "                                    25%         50%         75%          max  \n",
       "Dataset              Method                                                   \n",
       "german_reunification DSC     178.694113  263.957721  433.561071  1195.289020  \n",
       "                     SC      150.131622  245.470983  551.193395  1772.211830  \n",
       "smoking_data         DSC       3.470067    5.070766    7.227003    20.053207  \n",
       "                     SC        4.978909    7.320021   10.796258    71.434098  "
      ]
     },
     "execution_count": 331,
     "metadata": {},
     "output_type": "execute_result"
    }
   ],
   "source": [
    "storage_df.groupby([\"Dataset\",\"Method\"])[\"Pre RMSPE\"].describe()"
   ]
  },
  {
   "cell_type": "code",
   "execution_count": 332,
   "metadata": {},
   "outputs": [
    {
     "data": {
      "text/html": [
       "<div>\n",
       "<style scoped>\n",
       "    .dataframe tbody tr th:only-of-type {\n",
       "        vertical-align: middle;\n",
       "    }\n",
       "\n",
       "    .dataframe tbody tr th {\n",
       "        vertical-align: top;\n",
       "    }\n",
       "\n",
       "    .dataframe thead th {\n",
       "        text-align: right;\n",
       "    }\n",
       "</style>\n",
       "<table border=\"1\" class=\"dataframe\">\n",
       "  <thead>\n",
       "    <tr style=\"text-align: right;\">\n",
       "      <th></th>\n",
       "      <th></th>\n",
       "      <th>count</th>\n",
       "      <th>mean</th>\n",
       "      <th>std</th>\n",
       "      <th>min</th>\n",
       "      <th>25%</th>\n",
       "      <th>50%</th>\n",
       "      <th>75%</th>\n",
       "      <th>max</th>\n",
       "    </tr>\n",
       "    <tr>\n",
       "      <th>Dataset</th>\n",
       "      <th>Method</th>\n",
       "      <th></th>\n",
       "      <th></th>\n",
       "      <th></th>\n",
       "      <th></th>\n",
       "      <th></th>\n",
       "      <th></th>\n",
       "      <th></th>\n",
       "      <th></th>\n",
       "    </tr>\n",
       "  </thead>\n",
       "  <tbody>\n",
       "    <tr>\n",
       "      <th rowspan=\"2\" valign=\"top\">german_reunification</th>\n",
       "      <th>DSC</th>\n",
       "      <td>16.0</td>\n",
       "      <td>1866.097543</td>\n",
       "      <td>1348.947300</td>\n",
       "      <td>445.099195</td>\n",
       "      <td>1082.694980</td>\n",
       "      <td>1443.166814</td>\n",
       "      <td>2466.811766</td>\n",
       "      <td>5303.768744</td>\n",
       "    </tr>\n",
       "    <tr>\n",
       "      <th>SC</th>\n",
       "      <td>16.0</td>\n",
       "      <td>1947.799225</td>\n",
       "      <td>1504.838478</td>\n",
       "      <td>229.432358</td>\n",
       "      <td>997.341198</td>\n",
       "      <td>1529.968210</td>\n",
       "      <td>2203.578682</td>\n",
       "      <td>5229.718321</td>\n",
       "    </tr>\n",
       "    <tr>\n",
       "      <th rowspan=\"2\" valign=\"top\">smoking_data</th>\n",
       "      <th>DSC</th>\n",
       "      <td>38.0</td>\n",
       "      <td>12.093199</td>\n",
       "      <td>8.138681</td>\n",
       "      <td>1.306473</td>\n",
       "      <td>6.438274</td>\n",
       "      <td>11.103104</td>\n",
       "      <td>16.293971</td>\n",
       "      <td>37.119659</td>\n",
       "    </tr>\n",
       "    <tr>\n",
       "      <th>SC</th>\n",
       "      <td>38.0</td>\n",
       "      <td>14.927194</td>\n",
       "      <td>13.014822</td>\n",
       "      <td>1.467441</td>\n",
       "      <td>5.970000</td>\n",
       "      <td>11.200752</td>\n",
       "      <td>18.489174</td>\n",
       "      <td>51.600598</td>\n",
       "    </tr>\n",
       "  </tbody>\n",
       "</table>\n",
       "</div>"
      ],
      "text/plain": [
       "                             count         mean          std         min  \\\n",
       "Dataset              Method                                                \n",
       "german_reunification DSC      16.0  1866.097543  1348.947300  445.099195   \n",
       "                     SC       16.0  1947.799225  1504.838478  229.432358   \n",
       "smoking_data         DSC      38.0    12.093199     8.138681    1.306473   \n",
       "                     SC       38.0    14.927194    13.014822    1.467441   \n",
       "\n",
       "                                     25%          50%          75%  \\\n",
       "Dataset              Method                                          \n",
       "german_reunification DSC     1082.694980  1443.166814  2466.811766   \n",
       "                     SC       997.341198  1529.968210  2203.578682   \n",
       "smoking_data         DSC        6.438274    11.103104    16.293971   \n",
       "                     SC         5.970000    11.200752    18.489174   \n",
       "\n",
       "                                     max  \n",
       "Dataset              Method               \n",
       "german_reunification DSC     5303.768744  \n",
       "                     SC      5229.718321  \n",
       "smoking_data         DSC       37.119659  \n",
       "                     SC        51.600598  "
      ]
     },
     "execution_count": 332,
     "metadata": {},
     "output_type": "execute_result"
    }
   ],
   "source": [
    "storage_df.groupby([\"Dataset\",\"Method\"])[\"Post RMSPE\"].describe()"
   ]
  },
  {
   "cell_type": "markdown",
   "metadata": {},
   "source": [
    "## Visualizing it\n",
    "\n",
    "(Best visualization in still TBD, so far tables are most convincing IMO)"
   ]
  },
  {
   "cell_type": "code",
   "execution_count": null,
   "metadata": {},
   "outputs": [],
   "source": [
    "#Make seperate DFs\n",
    "sc_df = storage_df.loc[storage_df[\"Method\"]==\"SC\"]\n",
    "dsc_df = storage_df.loc[storage_df[\"Method\"]==\"DSC\"]"
   ]
  },
  {
   "cell_type": "code",
   "execution_count": 295,
   "metadata": {},
   "outputs": [
    {
     "data": {
      "image/png": "[encoded data removed]",
      "text/plain": [
       "<Figure size 432x288 with 1 Axes>"
      ]
     },
     "metadata": {
      "needs_background": "light"
     },
     "output_type": "display_data"
    }
   ],
   "source": [
    "import seaborn as sns\n",
    "\n",
    "data = [, storage_df.loc[storage_df[\"Method\"]==\"DSC\"][\"Post/pre RMSPE ratio\"]]\n",
    "\n",
    "plt.violinplot(data, [1, 2], points=20, widths=0.3,\n",
    "                      showmeans=True, showextrema=True, showmedians=True)\n",
    "plt.yscale('log')\n",
    "plt.ylim(10**(-1.5), 10**1.5)\n",
    "plt.show()"
   ]
  },
  {
   "cell_type": "code",
   "execution_count": 300,
   "metadata": {},
   "outputs": [
    {
     "data": {
      "image/png": "[encoded data removed]",
      "text/plain": [
       "<Figure size 432x288 with 1 Axes>"
      ]
     },
     "metadata": {
      "needs_background": "light"
     },
     "output_type": "display_data"
    }
   ],
   "source": [
    "sns.violinplot(x='Method', y='Pre RMSPE', data=storage_df, order=[ \"SC\", \"DSC\"])\n",
    "plt.show()"
   ]
  },
  {
   "cell_type": "code",
   "execution_count": 301,
   "metadata": {},
   "outputs": [
    {
     "data": {
      "image/png": "[encoded data removed]",
      "text/plain": [
       "<Figure size 432x288 with 1 Axes>"
      ]
     },
     "metadata": {
      "needs_background": "light"
     },
     "output_type": "display_data"
    }
   ],
   "source": [
    "sns.violinplot(x='Method', y='Post RMSPE', data=storage_df, order=[ \"SC\", \"DSC\"])\n",
    "plt.show()"
   ]
  },
  {
   "cell_type": "markdown",
   "metadata": {},
   "source": [
    "### SC is slightly more sparse"
   ]
  },
  {
   "cell_type": "code",
   "execution_count": 326,
   "metadata": {},
   "outputs": [
    {
     "data": {
      "text/plain": [
       "(0.24791458124791454, 0.2957290623957291)"
      ]
     },
     "execution_count": 326,
     "metadata": {},
     "output_type": "execute_result"
    }
   ],
   "source": [
    "def proportion_of_zero_weights(W):\n",
    "    return np.count_nonzero(W==0)/len(W)\n",
    "\n",
    "dsc_df[\"W\"].apply(proportion_of_zero_weights).mean(), sc_df[\"W\"].apply(proportion_of_zero_weights).mean()"
   ]
  },
  {
   "cell_type": "code",
   "execution_count": null,
   "metadata": {},
   "outputs": [],
   "source": []
  }
 ],
 "metadata": {
  "kernelspec": {
   "display_name": "Python 3",
   "language": "python",
   "name": "python3"
  },
  "language_info": {
   "codemirror_mode": {
    "name": "ipython",
    "version": 3
   },
   "file_extension": ".py",
   "mimetype": "text/x-python",
   "name": "python",
   "nbconvert_exporter": "python",
   "pygments_lexer": "ipython3",
   "version": "3.8.1"
  }
 },
 "nbformat": 4,
 "nbformat_minor": 4
}
