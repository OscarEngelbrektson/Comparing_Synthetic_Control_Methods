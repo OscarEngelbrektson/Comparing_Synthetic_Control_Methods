{
 "cells": [
  {
   "cell_type": "markdown",
   "metadata": {},
   "source": [
    "# Empirical evaluation using real data\n",
    "\n",
    "Whilst simulating data offers unparalleled control of testing conditions, it carries with it the risk that the synthetic data generation procedure is not representative of the generative procedures underlying the real-world datasets on which the models are applied in practice. As such, a means by which to complement simulation based approaches with evaluation of model performance on real datasets is highly desirable. Unfortunately, because of the fundamental problem of causal inference, we may never observe a true counterfactual against which to compare our models. To overcome this limitation, I propose to fit models to units where the estimated quantity is the observed potential outcome, namely control units. Specifically, we isolate one control unit in a dataset used for SC, pretend it was subjected to a treatment at some time T0, and fit a synthetic control unit to it using the remaining control units as the donor pool. Because the control unit never received the treatment, the true treatment effect is zero. Consequently, we can compare models based on how close, as measured using RMSPE, the synthetic control units are to the observed post-treatment outcome. We repeat this procedure for every control unit across several datasets from published studies applying synthetic control methodology, such that the assumptions of the model hold for the units in the dataset, and report the pre-treatment RMSPE, the post-treatment RMSPE, and the pre/post-treatment RMSPE ratio for the SC, SDID and DSC.\n",
    "\n",
    "N.B.: Remaining subsections under this section are unfinished"
   ]
  },
  {
   "cell_type": "code",
   "execution_count": 62,
   "metadata": {},
   "outputs": [],
   "source": [
    "import pandas as pd\n",
    "import numpy as np\n",
    "from SyntheticControlMethods import Synth, DiffSynth\n",
    "import pandas_profiling as pp\n",
    "import matplotlib.pyplot as plt"
   ]
  },
  {
   "cell_type": "code",
   "execution_count": 8,
   "metadata": {},
   "outputs": [],
   "source": [
    "def compare_and_save(storage_df, dataset_loc, \n",
    "                     outcome_var, id_var, time_var,\n",
    "                     treatment_period, treated_unit,\n",
    "                     n_optim=10, ignore_cols = None):\n",
    "    '''\n",
    "    Approach:\n",
    "    1. Take a dataset, drop the treated unit\n",
    "    2. For each control unit:\n",
    "        1. Fit Synthetic control using other control units as donor pool, record RMSPE\n",
    "        2. Same but with Differenced Synthetic Control\n",
    "    3. Repeat above for all datasets\n",
    "    '''\n",
    "    \n",
    "    #Get models\n",
    "    models = [Synth, DiffSynth]\n",
    "    model_names = [\"SC\", \"DSC\"]\n",
    "    penalization = [0, \"auto\"]\n",
    "    \n",
    "    #Get data\n",
    "    data_dir = \"https://raw.githubusercontent.com/OscarEngelbrektson/SyntheticControlMethods/master/examples/datasets/\"\n",
    "    df = pd.read_csv(data_dir + dataset_loc + \".csv\")\n",
    "    df = df.loc[df[id_var] != treated_unit] #Drop treated_unit\n",
    "    \n",
    "    #Extract names of all control units\n",
    "    units = df[id_var].unique()\n",
    "    for unit in units: #For every control unit\n",
    "        for model_name, model in zip(model_names, models): #For both SC and DSC\n",
    "            for pen in penalization:\n",
    "                if model_name == \"SC\":\n",
    "                    #Fit SC\n",
    "                    synth = model(df, outcome_var, id_var, time_var, treatment_period, unit, \n",
    "                                n_optim=n_optim, pen=pen)\n",
    "                    \n",
    "                    #Save results\n",
    "                    model_name += \"_pen\" if type(pen)==str else \"\" #Add suffix _pen if penalization != 0\n",
    "                    storage_df = store(storage_df, dataset_loc, unit, model_name, synth, constant=False)\n",
    "\n",
    "                else: #if model is DiffSynth\n",
    "                    #Fit DSC\n",
    "                    synth = model(df, outcome_var, id_var, time_var, treatment_period, unit, \n",
    "                                  ignore_cols=ignore_cols, n_optim=n_optim, pen=pen)\n",
    "                    #Save results\n",
    "                    model_name += \"_pen\" if type(pen)==str else \"\" #Add suffix _pen if penalization != 0\n",
    "                    storage_df = store(storage_df, dataset_loc, unit, model_name, synth, constant=True)\n",
    "    \n",
    "    #Store as csv\n",
    "    storage_df.to_csv(\"empirical_model_comparison.csv\", index=False, header=True)\n",
    "    #storage_df.to_parquet(\"empirical_model_comparison.csv\", index=False)\n",
    "    return storage_df\n",
    "    \n",
    "    \n",
    "def store(storage_df, dataset, unit, model, synth, constant):\n",
    "    '''Extract relevant model metrics and save to storage_df'''\n",
    "    #For convience\n",
    "    data = synth.original_data\n",
    "    #Make df with one observation\n",
    "    synth_df = pd.DataFrame({\"Dataset\": [dataset],\n",
    "                              \"Control Unit\": [unit],\n",
    "                              \"Method\": [model],\n",
    "                              \"Pre RMSPE\": [float(data.rmspe_df[\"pre_rmspe\"])],\n",
    "                              \"Post RMSPE\": [float(data.rmspe_df[\"post_rmspe\"])],\n",
    "                              \"Post/pre RMSPE ratio\": [float(data.rmspe_df[\"post/pre\"])],\n",
    "                              \"W\": [data.w],\n",
    "                              \"Constant\": [None if (model == \"SC\") or (model == \"SC_pen\") else data.synth_constant],\n",
    "                              \"Pen\": [None if (model == \"SC\") or (model == \"DSC\") else data.pen]})\n",
    "    \n",
    "    #Return storage_df with new observation appended to end\n",
    "    return pd.concat([storage_df, synth_df], axis=0)"
   ]
  },
  {
   "cell_type": "markdown",
   "metadata": {},
   "source": [
    "## Run for all datasets"
   ]
  },
  {
   "cell_type": "code",
   "execution_count": 9,
   "metadata": {},
   "outputs": [],
   "source": [
    "storage_df = pd.DataFrame({\"Dataset\": [],\n",
    "                              \"Control Unit\": [],\n",
    "                              \"Method\": [],\n",
    "                              \"Pre RMSPE\": [],\n",
    "                              \"Post RMSPE\": [],\n",
    "                              \"Post/pre RMSPE ratio\": [],\n",
    "                              \"W\":[],\n",
    "                              \"Constant\":[],\n",
    "                              \"Pen\":[]})"
   ]
  },
  {
   "cell_type": "code",
   "execution_count": 10,
   "metadata": {},
   "outputs": [
    {
     "name": "stderr",
     "output_type": "stream",
     "text": [
      "/Library/Frameworks/Python.framework/Versions/3.8/lib/python3.8/site-packages/cvxpy/problems/problem.py:1125: UserWarning: Solution may be inaccurate. Try another solver, adjusting the solver settings, or solve with verbose=True for more information.\n",
      "  warnings.warn(\n"
     ]
    }
   ],
   "source": [
    "storage_df = compare_and_save(storage_df, \"smoking_data\",\n",
    "                 \"cigsale\", \"state\", \"year\", 1989, \"California\", 10)"
   ]
  },
  {
   "cell_type": "code",
   "execution_count": 11,
   "metadata": {},
   "outputs": [],
   "source": [
    "storage_df = compare_and_save(storage_df, \"german_reunification\", \n",
    "                 \"gdp\", \"country\", \"year\", 1990, \"West Germany\", \n",
    "                 10, [\"schooling\", \"invest60\", \"invest70\", \"invest80\"])"
   ]
  },
  {
   "cell_type": "code",
   "execution_count": 12,
   "metadata": {},
   "outputs": [
    {
     "name": "stderr",
     "output_type": "stream",
     "text": [
      "/Library/Frameworks/Python.framework/Versions/3.8/lib/python3.8/site-packages/cvxpy/problems/problem.py:1125: UserWarning: Solution may be inaccurate. Try another solver, adjusting the solver settings, or solve with verbose=True for more information.\n",
      "  warnings.warn(\n",
      "/Library/Frameworks/Python.framework/Versions/3.8/lib/python3.8/site-packages/cvxpy/problems/problem.py:1125: UserWarning: Solution may be inaccurate. Try another solver, adjusting the solver settings, or solve with verbose=True for more information.\n",
      "  warnings.warn(\n",
      "/Library/Frameworks/Python.framework/Versions/3.8/lib/python3.8/site-packages/cvxpy/problems/problem.py:1125: UserWarning: Solution may be inaccurate. Try another solver, adjusting the solver settings, or solve with verbose=True for more information.\n",
      "  warnings.warn(\n",
      "/Library/Frameworks/Python.framework/Versions/3.8/lib/python3.8/site-packages/cvxpy/problems/problem.py:1125: UserWarning: Solution may be inaccurate. Try another solver, adjusting the solver settings, or solve with verbose=True for more information.\n",
      "  warnings.warn(\n",
      "/Library/Frameworks/Python.framework/Versions/3.8/lib/python3.8/site-packages/cvxpy/problems/problem.py:1125: UserWarning: Solution may be inaccurate. Try another solver, adjusting the solver settings, or solve with verbose=True for more information.\n",
      "  warnings.warn(\n",
      "/Library/Frameworks/Python.framework/Versions/3.8/lib/python3.8/site-packages/cvxpy/problems/problem.py:1125: UserWarning: Solution may be inaccurate. Try another solver, adjusting the solver settings, or solve with verbose=True for more information.\n",
      "  warnings.warn(\n",
      "/Library/Frameworks/Python.framework/Versions/3.8/lib/python3.8/site-packages/cvxpy/problems/problem.py:1125: UserWarning: Solution may be inaccurate. Try another solver, adjusting the solver settings, or solve with verbose=True for more information.\n",
      "  warnings.warn(\n"
     ]
    }
   ],
   "source": [
    "storage_df = compare_and_save(storage_df, \"basque_data\", \n",
    "                 \"gdpcap\", \"regionname\", \"year\", 1990, \"Basque Country (Pais Vasco)\", \n",
    "                 10,['sec.agriculture', 'sec.energy',\n",
    "                   'sec.industry', 'sec.construction', 'sec.services.venta',\n",
    "                   'sec.services.nonventa', 'school.illit', 'school.prim', 'school.med',\n",
    "                   'school.high', 'school.post.high'])"
   ]
  },
  {
   "cell_type": "markdown",
   "metadata": {},
   "source": [
    "### Compute sparsity from weights"
   ]
  },
  {
   "cell_type": "code",
   "execution_count": 186,
   "metadata": {},
   "outputs": [
    {
     "data": {
      "text/plain": [
       "2"
      ]
     },
     "execution_count": 186,
     "metadata": {},
     "output_type": "execute_result"
    }
   ],
   "source": [
    "np.count_nonzero(np.round(storage_df.iloc[1][\"W\"], 5))"
   ]
  },
  {
   "cell_type": "code",
   "execution_count": 202,
   "metadata": {},
   "outputs": [],
   "source": [
    "storage_df.drop(columns=[\"sparsity\"], axis=1, inplace=True)\n",
    "\n",
    "def proportion_of_non_zero_weights(row):\n",
    "    '''\n",
    "    Takes weight vector of a given synthetic control\n",
    "    Returns the proportion of units assigned 0 weight\n",
    "    '''\n",
    "    W = np.round(row[\"W\"], 5)\n",
    "    return np.count_nonzero(W)/len(W)\n",
    "\n",
    "#Compute sparsity from weights\n",
    "storage_df[\"Sparsity\"] = storage_df.apply(proportion_of_non_zero_weights, axis=1)"
   ]
  },
  {
   "cell_type": "markdown",
   "metadata": {},
   "source": [
    "# Analyze Results\n",
    "\n",
    "dimensions to analyse:\n",
    "2. Sparsity of w\n",
    "3. pre\n",
    "4. post\n",
    "\n",
    "Ideas: make violin plot that somehow shows pre,post and ratio for the groups in one"
   ]
  },
  {
   "cell_type": "code",
   "execution_count": 191,
   "metadata": {
    "scrolled": true
   },
   "outputs": [
    {
     "data": {
      "text/html": [
       "<div>\n",
       "<style scoped>\n",
       "    .dataframe tbody tr th:only-of-type {\n",
       "        vertical-align: middle;\n",
       "    }\n",
       "\n",
       "    .dataframe tbody tr th {\n",
       "        vertical-align: top;\n",
       "    }\n",
       "\n",
       "    .dataframe thead th {\n",
       "        text-align: right;\n",
       "    }\n",
       "</style>\n",
       "<table border=\"1\" class=\"dataframe\">\n",
       "  <thead>\n",
       "    <tr style=\"text-align: right;\">\n",
       "      <th></th>\n",
       "      <th>Dataset</th>\n",
       "      <th>Control Unit</th>\n",
       "      <th>Method</th>\n",
       "      <th>Pre RMSPE</th>\n",
       "      <th>Post RMSPE</th>\n",
       "      <th>Post/pre RMSPE ratio</th>\n",
       "      <th>W</th>\n",
       "      <th>Constant</th>\n",
       "      <th>sparsity</th>\n",
       "    </tr>\n",
       "  </thead>\n",
       "  <tbody>\n",
       "    <tr>\n",
       "      <th>0</th>\n",
       "      <td>smoking_data</td>\n",
       "      <td>Alabama</td>\n",
       "      <td>SC</td>\n",
       "      <td>9.328027</td>\n",
       "      <td>15.541616</td>\n",
       "      <td>1.666120</td>\n",
       "      <td>[[2.7716309167451333e-22], [0.0], [2.178085951...</td>\n",
       "      <td>None</td>\n",
       "      <td>0.054054</td>\n",
       "    </tr>\n",
       "    <tr>\n",
       "      <th>0</th>\n",
       "      <td>smoking_data</td>\n",
       "      <td>Alabama</td>\n",
       "      <td>SC_pen</td>\n",
       "      <td>6.414143</td>\n",
       "      <td>6.560237</td>\n",
       "      <td>1.022777</td>\n",
       "      <td>[[0.6248814064601804], [4.173320802675706e-22]...</td>\n",
       "      <td>None</td>\n",
       "      <td>0.054054</td>\n",
       "    </tr>\n",
       "    <tr>\n",
       "      <th>0</th>\n",
       "      <td>smoking_data</td>\n",
       "      <td>Alabama</td>\n",
       "      <td>DSC</td>\n",
       "      <td>1.589902</td>\n",
       "      <td>2.609516</td>\n",
       "      <td>1.641306</td>\n",
       "      <td>[[0.31382533094150045], [4.5720303967809914e-1...</td>\n",
       "      <td>-10.7703</td>\n",
       "      <td>0.081081</td>\n",
       "    </tr>\n",
       "    <tr>\n",
       "      <th>0</th>\n",
       "      <td>smoking_data</td>\n",
       "      <td>Alabama</td>\n",
       "      <td>DSC_pen</td>\n",
       "      <td>3.051299</td>\n",
       "      <td>4.183617</td>\n",
       "      <td>1.371094</td>\n",
       "      <td>[[0.4374460254791192], [8.541617759549765e-21]...</td>\n",
       "      <td>-8.57908</td>\n",
       "      <td>0.054054</td>\n",
       "    </tr>\n",
       "    <tr>\n",
       "      <th>0</th>\n",
       "      <td>smoking_data</td>\n",
       "      <td>Arkansas</td>\n",
       "      <td>SC</td>\n",
       "      <td>15.826894</td>\n",
       "      <td>33.221416</td>\n",
       "      <td>2.099048</td>\n",
       "      <td>[[0.0], [0.0], [1.6271352733489517e-23], [0.0]...</td>\n",
       "      <td>None</td>\n",
       "      <td>0.054054</td>\n",
       "    </tr>\n",
       "    <tr>\n",
       "      <th>0</th>\n",
       "      <td>smoking_data</td>\n",
       "      <td>Arkansas</td>\n",
       "      <td>SC_pen</td>\n",
       "      <td>7.317211</td>\n",
       "      <td>8.709956</td>\n",
       "      <td>1.190338</td>\n",
       "      <td>[[2.8388690635852446e-22], [1.4673591645140733...</td>\n",
       "      <td>None</td>\n",
       "      <td>0.027027</td>\n",
       "    </tr>\n",
       "    <tr>\n",
       "      <th>0</th>\n",
       "      <td>smoking_data</td>\n",
       "      <td>Arkansas</td>\n",
       "      <td>DSC</td>\n",
       "      <td>3.420261</td>\n",
       "      <td>4.378816</td>\n",
       "      <td>1.280258</td>\n",
       "      <td>[[0.8970026195178709], [1.1800980586623648e-05...</td>\n",
       "      <td>6.86355</td>\n",
       "      <td>0.945946</td>\n",
       "    </tr>\n",
       "    <tr>\n",
       "      <th>0</th>\n",
       "      <td>smoking_data</td>\n",
       "      <td>Arkansas</td>\n",
       "      <td>DSC_pen</td>\n",
       "      <td>2.985855</td>\n",
       "      <td>4.379868</td>\n",
       "      <td>1.466872</td>\n",
       "      <td>[[0.9445549434597713], [1.7440514419080682e-19...</td>\n",
       "      <td>6.62095</td>\n",
       "      <td>0.054054</td>\n",
       "    </tr>\n",
       "    <tr>\n",
       "      <th>0</th>\n",
       "      <td>smoking_data</td>\n",
       "      <td>Colorado</td>\n",
       "      <td>SC</td>\n",
       "      <td>3.531586</td>\n",
       "      <td>3.186158</td>\n",
       "      <td>0.902189</td>\n",
       "      <td>[[4.466166806030513e-23], [0.0], [0.0], [4.594...</td>\n",
       "      <td>None</td>\n",
       "      <td>0.054054</td>\n",
       "    </tr>\n",
       "    <tr>\n",
       "      <th>0</th>\n",
       "      <td>smoking_data</td>\n",
       "      <td>Colorado</td>\n",
       "      <td>SC_pen</td>\n",
       "      <td>5.288792</td>\n",
       "      <td>5.228060</td>\n",
       "      <td>0.988517</td>\n",
       "      <td>[[0.0], [0.0], [0.0], [0.0], [0.0], [0.0], [0....</td>\n",
       "      <td>None</td>\n",
       "      <td>0.054054</td>\n",
       "    </tr>\n",
       "  </tbody>\n",
       "</table>\n",
       "</div>"
      ],
      "text/plain": [
       "        Dataset Control Unit   Method  Pre RMSPE  Post RMSPE  \\\n",
       "0  smoking_data      Alabama       SC   9.328027   15.541616   \n",
       "0  smoking_data      Alabama   SC_pen   6.414143    6.560237   \n",
       "0  smoking_data      Alabama      DSC   1.589902    2.609516   \n",
       "0  smoking_data      Alabama  DSC_pen   3.051299    4.183617   \n",
       "0  smoking_data     Arkansas       SC  15.826894   33.221416   \n",
       "0  smoking_data     Arkansas   SC_pen   7.317211    8.709956   \n",
       "0  smoking_data     Arkansas      DSC   3.420261    4.378816   \n",
       "0  smoking_data     Arkansas  DSC_pen   2.985855    4.379868   \n",
       "0  smoking_data     Colorado       SC   3.531586    3.186158   \n",
       "0  smoking_data     Colorado   SC_pen   5.288792    5.228060   \n",
       "\n",
       "   Post/pre RMSPE ratio                                                  W  \\\n",
       "0              1.666120  [[2.7716309167451333e-22], [0.0], [2.178085951...   \n",
       "0              1.022777  [[0.6248814064601804], [4.173320802675706e-22]...   \n",
       "0              1.641306  [[0.31382533094150045], [4.5720303967809914e-1...   \n",
       "0              1.371094  [[0.4374460254791192], [8.541617759549765e-21]...   \n",
       "0              2.099048  [[0.0], [0.0], [1.6271352733489517e-23], [0.0]...   \n",
       "0              1.190338  [[2.8388690635852446e-22], [1.4673591645140733...   \n",
       "0              1.280258  [[0.8970026195178709], [1.1800980586623648e-05...   \n",
       "0              1.466872  [[0.9445549434597713], [1.7440514419080682e-19...   \n",
       "0              0.902189  [[4.466166806030513e-23], [0.0], [0.0], [4.594...   \n",
       "0              0.988517  [[0.0], [0.0], [0.0], [0.0], [0.0], [0.0], [0....   \n",
       "\n",
       "  Constant  sparsity  \n",
       "0     None  0.054054  \n",
       "0     None  0.054054  \n",
       "0 -10.7703  0.081081  \n",
       "0 -8.57908  0.054054  \n",
       "0     None  0.054054  \n",
       "0     None  0.027027  \n",
       "0  6.86355  0.945946  \n",
       "0  6.62095  0.054054  \n",
       "0     None  0.054054  \n",
       "0     None  0.054054  "
      ]
     },
     "execution_count": 191,
     "metadata": {},
     "output_type": "execute_result"
    }
   ],
   "source": [
    "storage_df.head(10)"
   ]
  },
  {
   "cell_type": "code",
   "execution_count": 203,
   "metadata": {},
   "outputs": [
    {
     "data": {
      "text/html": [
       "<style  type=\"text/css\" >\n",
       "#T_2e1ac32c_730d_11eb_acc3_6c96cfdacd07row0_col0,#T_2e1ac32c_730d_11eb_acc3_6c96cfdacd07row0_col1,#T_2e1ac32c_730d_11eb_acc3_6c96cfdacd07row0_col2,#T_2e1ac32c_730d_11eb_acc3_6c96cfdacd07row5_col0,#T_2e1ac32c_730d_11eb_acc3_6c96cfdacd07row5_col1,#T_2e1ac32c_730d_11eb_acc3_6c96cfdacd07row7_col2,#T_2e1ac32c_730d_11eb_acc3_6c96cfdacd07row8_col0,#T_2e1ac32c_730d_11eb_acc3_6c96cfdacd07row10_col2,#T_2e1ac32c_730d_11eb_acc3_6c96cfdacd07row11_col1{\n",
       "            background-color:  #cedcffff;\n",
       "        }#T_2e1ac32c_730d_11eb_acc3_6c96cfdacd07row1_col0,#T_2e1ac32c_730d_11eb_acc3_6c96cfdacd07row1_col1,#T_2e1ac32c_730d_11eb_acc3_6c96cfdacd07row3_col2,#T_2e1ac32c_730d_11eb_acc3_6c96cfdacd07row4_col0,#T_2e1ac32c_730d_11eb_acc3_6c96cfdacd07row4_col1,#T_2e1ac32c_730d_11eb_acc3_6c96cfdacd07row6_col2,#T_2e1ac32c_730d_11eb_acc3_6c96cfdacd07row9_col0,#T_2e1ac32c_730d_11eb_acc3_6c96cfdacd07row9_col1,#T_2e1ac32c_730d_11eb_acc3_6c96cfdacd07row11_col2{\n",
       "            background-color:  #9fbbffff;\n",
       "        }#T_2e1ac32c_730d_11eb_acc3_6c96cfdacd07row1_col2,#T_2e1ac32c_730d_11eb_acc3_6c96cfdacd07row2_col2,#T_2e1ac32c_730d_11eb_acc3_6c96cfdacd07row3_col0,#T_2e1ac32c_730d_11eb_acc3_6c96cfdacd07row3_col1,#T_2e1ac32c_730d_11eb_acc3_6c96cfdacd07row4_col2,#T_2e1ac32c_730d_11eb_acc3_6c96cfdacd07row5_col2,#T_2e1ac32c_730d_11eb_acc3_6c96cfdacd07row7_col0,#T_2e1ac32c_730d_11eb_acc3_6c96cfdacd07row7_col1,#T_2e1ac32c_730d_11eb_acc3_6c96cfdacd07row9_col2,#T_2e1ac32c_730d_11eb_acc3_6c96cfdacd07row10_col1,#T_2e1ac32c_730d_11eb_acc3_6c96cfdacd07row11_col0{\n",
       "            background-color:  #ffccccff;\n",
       "        }#T_2e1ac32c_730d_11eb_acc3_6c96cfdacd07row2_col0,#T_2e1ac32c_730d_11eb_acc3_6c96cfdacd07row2_col1,#T_2e1ac32c_730d_11eb_acc3_6c96cfdacd07row6_col0,#T_2e1ac32c_730d_11eb_acc3_6c96cfdacd07row6_col1,#T_2e1ac32c_730d_11eb_acc3_6c96cfdacd07row8_col1,#T_2e1ac32c_730d_11eb_acc3_6c96cfdacd07row8_col2,#T_2e1ac32c_730d_11eb_acc3_6c96cfdacd07row10_col0{\n",
       "            background-color:  #ffa8a8ff;\n",
       "        }</style><table id=\"T_2e1ac32c_730d_11eb_acc3_6c96cfdacd07\" ><thead>    <tr>        <th class=\"blank\" ></th>        <th class=\"blank level0\" ></th>        <th class=\"col_heading level0 col0\" >Pre RMSPE</th>        <th class=\"col_heading level0 col1\" >Post RMSPE</th>        <th class=\"col_heading level0 col2\" >Sparsity</th>    </tr>    <tr>        <th class=\"blank\" ></th>        <th class=\"blank level1\" ></th>        <th class=\"col_heading level1 col0\" >mean</th>        <th class=\"col_heading level1 col1\" >mean</th>        <th class=\"col_heading level1 col2\" >mean</th>    </tr>    <tr>        <th class=\"index_name level0\" >Dataset</th>        <th class=\"index_name level1\" >Method</th>        <th class=\"blank\" ></th>        <th class=\"blank\" ></th>        <th class=\"blank\" ></th>    </tr></thead><tbody>\n",
       "                <tr>\n",
       "                        <th id=\"T_2e1ac32c_730d_11eb_acc3_6c96cfdacd07level0_row0\" class=\"row_heading level0 row0\" rowspan=4>basque_data</th>\n",
       "                        <th id=\"T_2e1ac32c_730d_11eb_acc3_6c96cfdacd07level1_row0\" class=\"row_heading level1 row0\" >DSC</th>\n",
       "                        <td id=\"T_2e1ac32c_730d_11eb_acc3_6c96cfdacd07row0_col0\" class=\"data row0 col0\" >0.18</td>\n",
       "                        <td id=\"T_2e1ac32c_730d_11eb_acc3_6c96cfdacd07row0_col1\" class=\"data row0 col1\" >0.42</td>\n",
       "                        <td id=\"T_2e1ac32c_730d_11eb_acc3_6c96cfdacd07row0_col2\" class=\"data row0 col2\" >0.19</td>\n",
       "            </tr>\n",
       "            <tr>\n",
       "                                <th id=\"T_2e1ac32c_730d_11eb_acc3_6c96cfdacd07level1_row1\" class=\"row_heading level1 row1\" >DSC_pen</th>\n",
       "                        <td id=\"T_2e1ac32c_730d_11eb_acc3_6c96cfdacd07row1_col0\" class=\"data row1 col0\" >0.17</td>\n",
       "                        <td id=\"T_2e1ac32c_730d_11eb_acc3_6c96cfdacd07row1_col1\" class=\"data row1 col1\" >0.36</td>\n",
       "                        <td id=\"T_2e1ac32c_730d_11eb_acc3_6c96cfdacd07row1_col2\" class=\"data row1 col2\" >0.20</td>\n",
       "            </tr>\n",
       "            <tr>\n",
       "                                <th id=\"T_2e1ac32c_730d_11eb_acc3_6c96cfdacd07level1_row2\" class=\"row_heading level1 row2\" >SC</th>\n",
       "                        <td id=\"T_2e1ac32c_730d_11eb_acc3_6c96cfdacd07row2_col0\" class=\"data row2 col0\" >0.37</td>\n",
       "                        <td id=\"T_2e1ac32c_730d_11eb_acc3_6c96cfdacd07row2_col1\" class=\"data row2 col1\" >0.61</td>\n",
       "                        <td id=\"T_2e1ac32c_730d_11eb_acc3_6c96cfdacd07row2_col2\" class=\"data row2 col2\" >0.20</td>\n",
       "            </tr>\n",
       "            <tr>\n",
       "                                <th id=\"T_2e1ac32c_730d_11eb_acc3_6c96cfdacd07level1_row3\" class=\"row_heading level1 row3\" >SC_pen</th>\n",
       "                        <td id=\"T_2e1ac32c_730d_11eb_acc3_6c96cfdacd07row3_col0\" class=\"data row3 col0\" >0.32</td>\n",
       "                        <td id=\"T_2e1ac32c_730d_11eb_acc3_6c96cfdacd07row3_col1\" class=\"data row3 col1\" >0.52</td>\n",
       "                        <td id=\"T_2e1ac32c_730d_11eb_acc3_6c96cfdacd07row3_col2\" class=\"data row3 col2\" >0.15</td>\n",
       "            </tr>\n",
       "            <tr>\n",
       "                        <th id=\"T_2e1ac32c_730d_11eb_acc3_6c96cfdacd07level0_row4\" class=\"row_heading level0 row4\" rowspan=4>german_reunification</th>\n",
       "                        <th id=\"T_2e1ac32c_730d_11eb_acc3_6c96cfdacd07level1_row4\" class=\"row_heading level1 row4\" >DSC</th>\n",
       "                        <td id=\"T_2e1ac32c_730d_11eb_acc3_6c96cfdacd07row4_col0\" class=\"data row4 col0\" >357.76</td>\n",
       "                        <td id=\"T_2e1ac32c_730d_11eb_acc3_6c96cfdacd07row4_col1\" class=\"data row4 col1\" >1642.52</td>\n",
       "                        <td id=\"T_2e1ac32c_730d_11eb_acc3_6c96cfdacd07row4_col2\" class=\"data row4 col2\" >0.22</td>\n",
       "            </tr>\n",
       "            <tr>\n",
       "                                <th id=\"T_2e1ac32c_730d_11eb_acc3_6c96cfdacd07level1_row5\" class=\"row_heading level1 row5\" >DSC_pen</th>\n",
       "                        <td id=\"T_2e1ac32c_730d_11eb_acc3_6c96cfdacd07row5_col0\" class=\"data row5 col0\" >374.51</td>\n",
       "                        <td id=\"T_2e1ac32c_730d_11eb_acc3_6c96cfdacd07row5_col1\" class=\"data row5 col1\" >1747.07</td>\n",
       "                        <td id=\"T_2e1ac32c_730d_11eb_acc3_6c96cfdacd07row5_col2\" class=\"data row5 col2\" >0.22</td>\n",
       "            </tr>\n",
       "            <tr>\n",
       "                                <th id=\"T_2e1ac32c_730d_11eb_acc3_6c96cfdacd07level1_row6\" class=\"row_heading level1 row6\" >SC</th>\n",
       "                        <td id=\"T_2e1ac32c_730d_11eb_acc3_6c96cfdacd07row6_col0\" class=\"data row6 col0\" >642.60</td>\n",
       "                        <td id=\"T_2e1ac32c_730d_11eb_acc3_6c96cfdacd07row6_col1\" class=\"data row6 col1\" >1934.76</td>\n",
       "                        <td id=\"T_2e1ac32c_730d_11eb_acc3_6c96cfdacd07row6_col2\" class=\"data row6 col2\" >0.14</td>\n",
       "            </tr>\n",
       "            <tr>\n",
       "                                <th id=\"T_2e1ac32c_730d_11eb_acc3_6c96cfdacd07level1_row7\" class=\"row_heading level1 row7\" >SC_pen</th>\n",
       "                        <td id=\"T_2e1ac32c_730d_11eb_acc3_6c96cfdacd07row7_col0\" class=\"data row7 col0\" >566.66</td>\n",
       "                        <td id=\"T_2e1ac32c_730d_11eb_acc3_6c96cfdacd07row7_col1\" class=\"data row7 col1\" >1841.99</td>\n",
       "                        <td id=\"T_2e1ac32c_730d_11eb_acc3_6c96cfdacd07row7_col2\" class=\"data row7 col2\" >0.21</td>\n",
       "            </tr>\n",
       "            <tr>\n",
       "                        <th id=\"T_2e1ac32c_730d_11eb_acc3_6c96cfdacd07level0_row8\" class=\"row_heading level0 row8\" rowspan=4>smoking_data</th>\n",
       "                        <th id=\"T_2e1ac32c_730d_11eb_acc3_6c96cfdacd07level1_row8\" class=\"row_heading level1 row8\" >DSC</th>\n",
       "                        <td id=\"T_2e1ac32c_730d_11eb_acc3_6c96cfdacd07row8_col0\" class=\"data row8 col0\" >6.66</td>\n",
       "                        <td id=\"T_2e1ac32c_730d_11eb_acc3_6c96cfdacd07row8_col1\" class=\"data row8 col1\" >15.21</td>\n",
       "                        <td id=\"T_2e1ac32c_730d_11eb_acc3_6c96cfdacd07row8_col2\" class=\"data row8 col2\" >0.28</td>\n",
       "            </tr>\n",
       "            <tr>\n",
       "                                <th id=\"T_2e1ac32c_730d_11eb_acc3_6c96cfdacd07level1_row9\" class=\"row_heading level1 row9\" >DSC_pen</th>\n",
       "                        <td id=\"T_2e1ac32c_730d_11eb_acc3_6c96cfdacd07row9_col0\" class=\"data row9 col0\" >6.02</td>\n",
       "                        <td id=\"T_2e1ac32c_730d_11eb_acc3_6c96cfdacd07row9_col1\" class=\"data row9 col1\" >12.90</td>\n",
       "                        <td id=\"T_2e1ac32c_730d_11eb_acc3_6c96cfdacd07row9_col2\" class=\"data row9 col2\" >0.11</td>\n",
       "            </tr>\n",
       "            <tr>\n",
       "                                <th id=\"T_2e1ac32c_730d_11eb_acc3_6c96cfdacd07level1_row10\" class=\"row_heading level1 row10\" >SC</th>\n",
       "                        <td id=\"T_2e1ac32c_730d_11eb_acc3_6c96cfdacd07row10_col0\" class=\"data row10 col0\" >8.83</td>\n",
       "                        <td id=\"T_2e1ac32c_730d_11eb_acc3_6c96cfdacd07row10_col1\" class=\"data row10 col1\" >13.76</td>\n",
       "                        <td id=\"T_2e1ac32c_730d_11eb_acc3_6c96cfdacd07row10_col2\" class=\"data row10 col2\" >0.06</td>\n",
       "            </tr>\n",
       "            <tr>\n",
       "                                <th id=\"T_2e1ac32c_730d_11eb_acc3_6c96cfdacd07level1_row11\" class=\"row_heading level1 row11\" >SC_pen</th>\n",
       "                        <td id=\"T_2e1ac32c_730d_11eb_acc3_6c96cfdacd07row11_col0\" class=\"data row11 col0\" >8.15</td>\n",
       "                        <td id=\"T_2e1ac32c_730d_11eb_acc3_6c96cfdacd07row11_col1\" class=\"data row11 col1\" >13.16</td>\n",
       "                        <td id=\"T_2e1ac32c_730d_11eb_acc3_6c96cfdacd07row11_col2\" class=\"data row11 col2\" >0.05</td>\n",
       "            </tr>\n",
       "    </tbody></table>"
      ],
      "text/plain": [
       "<pandas.io.formats.style.Styler at 0x1369fe610>"
      ]
     },
     "execution_count": 203,
     "metadata": {},
     "output_type": "execute_result"
    }
   ],
   "source": [
    "def color_map(x):\n",
    "    '''\n",
    "    Maps a rank to a colour,\n",
    "    Red-er is low rank, blue-er is high rank\n",
    "    '''\n",
    "    color_dict = {1 : 'background-color: #9fbbffff',\n",
    "                  1.5 : 'background-color: #9fbbffff',\n",
    "                  2 : 'background-color: #cedcffff',\n",
    "                  3 : 'background-color: #ffccccff',\n",
    "                  4 : 'background-color: #ffa8a8ff'}\n",
    "    return color_dict[x]\n",
    "\n",
    "def highlight_by_order(df):\n",
    "    '''\n",
    "    Takes grouped data frame,\n",
    "    Produces columnwise ranks for each observation in each group,\n",
    "    then returns dataframe of colours based on ranks, as per colormap\n",
    "    '''\n",
    "    rank_df = df.groupby(level=0).rank().astype(int)\n",
    "    color_df = rank_df.applymap(color_map)\n",
    "    return color_df\n",
    "\n",
    "#Compute Pre RMSPE, Post RMSPE and sparsity for each method for each dataset\n",
    "summary_df = storage_df.groupby([\"Dataset\",\"Method\"])[[\"Pre RMSPE\", \"Post RMSPE\", \"Sparsity\"]].agg([np.mean]).round(2)\n",
    "summary_df.style.apply(highlight_by_order,axis=None).format(\"{:.2f}\")"
   ]
  },
  {
   "cell_type": "code",
   "execution_count": 73,
   "metadata": {},
   "outputs": [
    {
     "data": {
      "text/html": [
       "<div>\n",
       "<style scoped>\n",
       "    .dataframe tbody tr th:only-of-type {\n",
       "        vertical-align: middle;\n",
       "    }\n",
       "\n",
       "    .dataframe tbody tr th {\n",
       "        vertical-align: top;\n",
       "    }\n",
       "\n",
       "    .dataframe thead th {\n",
       "        text-align: right;\n",
       "    }\n",
       "</style>\n",
       "<table border=\"1\" class=\"dataframe\">\n",
       "  <thead>\n",
       "    <tr style=\"text-align: right;\">\n",
       "      <th></th>\n",
       "      <th>Pre RMSPE</th>\n",
       "      <th>Post RMSPE</th>\n",
       "    </tr>\n",
       "    <tr>\n",
       "      <th>Method</th>\n",
       "      <th></th>\n",
       "      <th></th>\n",
       "    </tr>\n",
       "  </thead>\n",
       "  <tbody>\n",
       "    <tr>\n",
       "      <th>DSC</th>\n",
       "      <td>5.373029</td>\n",
       "      <td>12.983969</td>\n",
       "    </tr>\n",
       "    <tr>\n",
       "      <th>DSC_pen</th>\n",
       "      <td>4.586791</td>\n",
       "      <td>11.027258</td>\n",
       "    </tr>\n",
       "    <tr>\n",
       "      <th>SC</th>\n",
       "      <td>6.313807</td>\n",
       "      <td>11.448270</td>\n",
       "    </tr>\n",
       "    <tr>\n",
       "      <th>SC_pen</th>\n",
       "      <td>5.690666</td>\n",
       "      <td>10.904216</td>\n",
       "    </tr>\n",
       "  </tbody>\n",
       "</table>\n",
       "</div>"
      ],
      "text/plain": [
       "         Pre RMSPE  Post RMSPE\n",
       "Method                        \n",
       "DSC       5.373029   12.983969\n",
       "DSC_pen   4.586791   11.027258\n",
       "SC        6.313807   11.448270\n",
       "SC_pen    5.690666   10.904216"
      ]
     },
     "execution_count": 73,
     "metadata": {},
     "output_type": "execute_result"
    }
   ],
   "source": [
    "storage_df.groupby(\"Method\")[[\"Pre RMSPE\", \"Post RMSPE\"]].median()"
   ]
  },
  {
   "cell_type": "code",
   "execution_count": 15,
   "metadata": {
    "scrolled": false
   },
   "outputs": [
    {
     "data": {
      "text/html": [
       "<div>\n",
       "<style scoped>\n",
       "    .dataframe tbody tr th:only-of-type {\n",
       "        vertical-align: middle;\n",
       "    }\n",
       "\n",
       "    .dataframe tbody tr th {\n",
       "        vertical-align: top;\n",
       "    }\n",
       "\n",
       "    .dataframe thead th {\n",
       "        text-align: right;\n",
       "    }\n",
       "</style>\n",
       "<table border=\"1\" class=\"dataframe\">\n",
       "  <thead>\n",
       "    <tr style=\"text-align: right;\">\n",
       "      <th></th>\n",
       "      <th>count</th>\n",
       "      <th>mean</th>\n",
       "      <th>std</th>\n",
       "      <th>min</th>\n",
       "      <th>25%</th>\n",
       "      <th>50%</th>\n",
       "      <th>75%</th>\n",
       "      <th>max</th>\n",
       "    </tr>\n",
       "    <tr>\n",
       "      <th>Method</th>\n",
       "      <th></th>\n",
       "      <th></th>\n",
       "      <th></th>\n",
       "      <th></th>\n",
       "      <th></th>\n",
       "      <th></th>\n",
       "      <th></th>\n",
       "      <th></th>\n",
       "    </tr>\n",
       "  </thead>\n",
       "  <tbody>\n",
       "    <tr>\n",
       "      <th>DSC</th>\n",
       "      <td>71.0</td>\n",
       "      <td>378.383526</td>\n",
       "      <td>936.512529</td>\n",
       "      <td>0.055154</td>\n",
       "      <td>3.046097</td>\n",
       "      <td>12.983969</td>\n",
       "      <td>41.838508</td>\n",
       "      <td>5339.398578</td>\n",
       "    </tr>\n",
       "    <tr>\n",
       "      <th>DSC_pen</th>\n",
       "      <td>71.0</td>\n",
       "      <td>400.697599</td>\n",
       "      <td>1037.641309</td>\n",
       "      <td>0.052674</td>\n",
       "      <td>3.286188</td>\n",
       "      <td>11.027258</td>\n",
       "      <td>31.017696</td>\n",
       "      <td>6590.173748</td>\n",
       "    </tr>\n",
       "    <tr>\n",
       "      <th>SC</th>\n",
       "      <td>71.0</td>\n",
       "      <td>443.515242</td>\n",
       "      <td>1061.206455</td>\n",
       "      <td>0.149917</td>\n",
       "      <td>2.622206</td>\n",
       "      <td>11.448270</td>\n",
       "      <td>31.657353</td>\n",
       "      <td>4903.074522</td>\n",
       "    </tr>\n",
       "    <tr>\n",
       "      <th>SC_pen</th>\n",
       "      <td>71.0</td>\n",
       "      <td>422.261286</td>\n",
       "      <td>1011.227896</td>\n",
       "      <td>0.079737</td>\n",
       "      <td>2.474950</td>\n",
       "      <td>10.904216</td>\n",
       "      <td>26.584453</td>\n",
       "      <td>4903.070663</td>\n",
       "    </tr>\n",
       "  </tbody>\n",
       "</table>\n",
       "</div>"
      ],
      "text/plain": [
       "         count        mean          std       min       25%        50%  \\\n",
       "Method                                                                   \n",
       "DSC       71.0  378.383526   936.512529  0.055154  3.046097  12.983969   \n",
       "DSC_pen   71.0  400.697599  1037.641309  0.052674  3.286188  11.027258   \n",
       "SC        71.0  443.515242  1061.206455  0.149917  2.622206  11.448270   \n",
       "SC_pen    71.0  422.261286  1011.227896  0.079737  2.474950  10.904216   \n",
       "\n",
       "               75%          max  \n",
       "Method                           \n",
       "DSC      41.838508  5339.398578  \n",
       "DSC_pen  31.017696  6590.173748  \n",
       "SC       31.657353  4903.074522  \n",
       "SC_pen   26.584453  4903.070663  "
      ]
     },
     "execution_count": 15,
     "metadata": {},
     "output_type": "execute_result"
    }
   ],
   "source": [
    "storage_df.groupby(\"Method\")[\"Post RMSPE\"].describe()"
   ]
  },
  {
   "cell_type": "code",
   "execution_count": 16,
   "metadata": {
    "scrolled": true
   },
   "outputs": [
    {
     "data": {
      "text/html": [
       "<div>\n",
       "<style scoped>\n",
       "    .dataframe tbody tr th:only-of-type {\n",
       "        vertical-align: middle;\n",
       "    }\n",
       "\n",
       "    .dataframe tbody tr th {\n",
       "        vertical-align: top;\n",
       "    }\n",
       "\n",
       "    .dataframe thead th {\n",
       "        text-align: right;\n",
       "    }\n",
       "</style>\n",
       "<table border=\"1\" class=\"dataframe\">\n",
       "  <thead>\n",
       "    <tr style=\"text-align: right;\">\n",
       "      <th></th>\n",
       "      <th>count</th>\n",
       "      <th>mean</th>\n",
       "      <th>std</th>\n",
       "      <th>min</th>\n",
       "      <th>25%</th>\n",
       "      <th>50%</th>\n",
       "      <th>75%</th>\n",
       "      <th>max</th>\n",
       "    </tr>\n",
       "    <tr>\n",
       "      <th>Method</th>\n",
       "      <th></th>\n",
       "      <th></th>\n",
       "      <th></th>\n",
       "      <th></th>\n",
       "      <th></th>\n",
       "      <th></th>\n",
       "      <th></th>\n",
       "      <th></th>\n",
       "    </tr>\n",
       "  </thead>\n",
       "  <tbody>\n",
       "    <tr>\n",
       "      <th>DSC</th>\n",
       "      <td>71.0</td>\n",
       "      <td>84.228178</td>\n",
       "      <td>202.733662</td>\n",
       "      <td>0.035286</td>\n",
       "      <td>1.853866</td>\n",
       "      <td>5.373029</td>\n",
       "      <td>16.038359</td>\n",
       "      <td>1195.289032</td>\n",
       "    </tr>\n",
       "    <tr>\n",
       "      <th>DSC_pen</th>\n",
       "      <td>71.0</td>\n",
       "      <td>87.660030</td>\n",
       "      <td>193.946458</td>\n",
       "      <td>0.041263</td>\n",
       "      <td>2.010931</td>\n",
       "      <td>4.586791</td>\n",
       "      <td>14.697943</td>\n",
       "      <td>813.284176</td>\n",
       "    </tr>\n",
       "    <tr>\n",
       "      <th>SC</th>\n",
       "      <td>71.0</td>\n",
       "      <td>149.626936</td>\n",
       "      <td>357.076143</td>\n",
       "      <td>0.047939</td>\n",
       "      <td>2.943543</td>\n",
       "      <td>6.313807</td>\n",
       "      <td>23.757556</td>\n",
       "      <td>1468.720600</td>\n",
       "    </tr>\n",
       "    <tr>\n",
       "      <th>SC_pen</th>\n",
       "      <td>71.0</td>\n",
       "      <td>132.136539</td>\n",
       "      <td>320.261567</td>\n",
       "      <td>0.047939</td>\n",
       "      <td>2.265696</td>\n",
       "      <td>5.690666</td>\n",
       "      <td>23.877879</td>\n",
       "      <td>1468.720600</td>\n",
       "    </tr>\n",
       "  </tbody>\n",
       "</table>\n",
       "</div>"
      ],
      "text/plain": [
       "         count        mean         std       min       25%       50%  \\\n",
       "Method                                                                 \n",
       "DSC       71.0   84.228178  202.733662  0.035286  1.853866  5.373029   \n",
       "DSC_pen   71.0   87.660030  193.946458  0.041263  2.010931  4.586791   \n",
       "SC        71.0  149.626936  357.076143  0.047939  2.943543  6.313807   \n",
       "SC_pen    71.0  132.136539  320.261567  0.047939  2.265696  5.690666   \n",
       "\n",
       "               75%          max  \n",
       "Method                           \n",
       "DSC      16.038359  1195.289032  \n",
       "DSC_pen  14.697943   813.284176  \n",
       "SC       23.757556  1468.720600  \n",
       "SC_pen   23.877879  1468.720600  "
      ]
     },
     "execution_count": 16,
     "metadata": {},
     "output_type": "execute_result"
    }
   ],
   "source": [
    "storage_df.groupby(\"Method\")[\"Pre RMSPE\"].describe()"
   ]
  },
  {
   "cell_type": "markdown",
   "metadata": {},
   "source": [
    "## Segregating by Dataset too"
   ]
  },
  {
   "cell_type": "code",
   "execution_count": 71,
   "metadata": {
    "scrolled": false
   },
   "outputs": [
    {
     "data": {
      "text/html": [
       "<div>\n",
       "<style scoped>\n",
       "    .dataframe tbody tr th:only-of-type {\n",
       "        vertical-align: middle;\n",
       "    }\n",
       "\n",
       "    .dataframe tbody tr th {\n",
       "        vertical-align: top;\n",
       "    }\n",
       "\n",
       "    .dataframe thead th {\n",
       "        text-align: right;\n",
       "    }\n",
       "</style>\n",
       "<table border=\"1\" class=\"dataframe\">\n",
       "  <thead>\n",
       "    <tr style=\"text-align: right;\">\n",
       "      <th></th>\n",
       "      <th></th>\n",
       "      <th>count</th>\n",
       "      <th>mean</th>\n",
       "      <th>std</th>\n",
       "      <th>min</th>\n",
       "      <th>25%</th>\n",
       "      <th>50%</th>\n",
       "      <th>75%</th>\n",
       "      <th>max</th>\n",
       "    </tr>\n",
       "    <tr>\n",
       "      <th>Dataset</th>\n",
       "      <th>Method</th>\n",
       "      <th></th>\n",
       "      <th></th>\n",
       "      <th></th>\n",
       "      <th></th>\n",
       "      <th></th>\n",
       "      <th></th>\n",
       "      <th></th>\n",
       "      <th></th>\n",
       "    </tr>\n",
       "  </thead>\n",
       "  <tbody>\n",
       "    <tr>\n",
       "      <th rowspan=\"3\" valign=\"top\">basque_data</th>\n",
       "      <th>DSC_pen</th>\n",
       "      <td>17.0</td>\n",
       "      <td>0.168324</td>\n",
       "      <td>0.199328</td>\n",
       "      <td>0.041263</td>\n",
       "      <td>0.074363</td>\n",
       "      <td>0.095730</td>\n",
       "      <td>0.151309</td>\n",
       "      <td>0.886419</td>\n",
       "    </tr>\n",
       "    <tr>\n",
       "      <th>SC</th>\n",
       "      <td>17.0</td>\n",
       "      <td>0.371908</td>\n",
       "      <td>0.417829</td>\n",
       "      <td>0.047939</td>\n",
       "      <td>0.125772</td>\n",
       "      <td>0.196310</td>\n",
       "      <td>0.311097</td>\n",
       "      <td>1.334174</td>\n",
       "    </tr>\n",
       "    <tr>\n",
       "      <th>SC_pen</th>\n",
       "      <td>17.0</td>\n",
       "      <td>0.318758</td>\n",
       "      <td>0.341410</td>\n",
       "      <td>0.047939</td>\n",
       "      <td>0.109213</td>\n",
       "      <td>0.139346</td>\n",
       "      <td>0.547939</td>\n",
       "      <td>1.118919</td>\n",
       "    </tr>\n",
       "    <tr>\n",
       "      <th rowspan=\"3\" valign=\"top\">german_reunification</th>\n",
       "      <th>DSC_pen</th>\n",
       "      <td>16.0</td>\n",
       "      <td>374.508888</td>\n",
       "      <td>249.338636</td>\n",
       "      <td>74.806595</td>\n",
       "      <td>182.785510</td>\n",
       "      <td>310.313644</td>\n",
       "      <td>508.851357</td>\n",
       "      <td>813.284176</td>\n",
       "    </tr>\n",
       "    <tr>\n",
       "      <th>SC</th>\n",
       "      <td>16.0</td>\n",
       "      <td>642.603027</td>\n",
       "      <td>509.984177</td>\n",
       "      <td>107.507871</td>\n",
       "      <td>278.662357</td>\n",
       "      <td>404.710599</td>\n",
       "      <td>1173.010202</td>\n",
       "      <td>1468.720600</td>\n",
       "    </tr>\n",
       "    <tr>\n",
       "      <th>SC_pen</th>\n",
       "      <td>16.0</td>\n",
       "      <td>566.662975</td>\n",
       "      <td>467.310977</td>\n",
       "      <td>107.507871</td>\n",
       "      <td>246.388041</td>\n",
       "      <td>341.754289</td>\n",
       "      <td>860.302124</td>\n",
       "      <td>1468.720600</td>\n",
       "    </tr>\n",
       "    <tr>\n",
       "      <th rowspan=\"3\" valign=\"top\">smoking_data</th>\n",
       "      <th>DSC_pen</th>\n",
       "      <td>38.0</td>\n",
       "      <td>6.022591</td>\n",
       "      <td>4.072573</td>\n",
       "      <td>1.890676</td>\n",
       "      <td>3.147595</td>\n",
       "      <td>4.676125</td>\n",
       "      <td>7.154221</td>\n",
       "      <td>20.553060</td>\n",
       "    </tr>\n",
       "    <tr>\n",
       "      <th>SC</th>\n",
       "      <td>38.0</td>\n",
       "      <td>8.830042</td>\n",
       "      <td>9.802580</td>\n",
       "      <td>2.856920</td>\n",
       "      <td>4.789540</td>\n",
       "      <td>6.328239</td>\n",
       "      <td>8.176501</td>\n",
       "      <td>60.480521</td>\n",
       "    </tr>\n",
       "    <tr>\n",
       "      <th>SC_pen</th>\n",
       "      <td>38.0</td>\n",
       "      <td>8.149153</td>\n",
       "      <td>9.665210</td>\n",
       "      <td>1.686994</td>\n",
       "      <td>4.275081</td>\n",
       "      <td>5.695454</td>\n",
       "      <td>7.352044</td>\n",
       "      <td>59.037758</td>\n",
       "    </tr>\n",
       "  </tbody>\n",
       "</table>\n",
       "</div>"
      ],
      "text/plain": [
       "                              count        mean         std         min  \\\n",
       "Dataset              Method                                               \n",
       "basque_data          DSC_pen   17.0    0.168324    0.199328    0.041263   \n",
       "                     SC        17.0    0.371908    0.417829    0.047939   \n",
       "                     SC_pen    17.0    0.318758    0.341410    0.047939   \n",
       "german_reunification DSC_pen   16.0  374.508888  249.338636   74.806595   \n",
       "                     SC        16.0  642.603027  509.984177  107.507871   \n",
       "                     SC_pen    16.0  566.662975  467.310977  107.507871   \n",
       "smoking_data         DSC_pen   38.0    6.022591    4.072573    1.890676   \n",
       "                     SC        38.0    8.830042    9.802580    2.856920   \n",
       "                     SC_pen    38.0    8.149153    9.665210    1.686994   \n",
       "\n",
       "                                     25%         50%          75%          max  \n",
       "Dataset              Method                                                     \n",
       "basque_data          DSC_pen    0.074363    0.095730     0.151309     0.886419  \n",
       "                     SC         0.125772    0.196310     0.311097     1.334174  \n",
       "                     SC_pen     0.109213    0.139346     0.547939     1.118919  \n",
       "german_reunification DSC_pen  182.785510  310.313644   508.851357   813.284176  \n",
       "                     SC       278.662357  404.710599  1173.010202  1468.720600  \n",
       "                     SC_pen   246.388041  341.754289   860.302124  1468.720600  \n",
       "smoking_data         DSC_pen    3.147595    4.676125     7.154221    20.553060  \n",
       "                     SC         4.789540    6.328239     8.176501    60.480521  \n",
       "                     SC_pen     4.275081    5.695454     7.352044    59.037758  "
      ]
     },
     "execution_count": 71,
     "metadata": {},
     "output_type": "execute_result"
    }
   ],
   "source": [
    "storage_df.loc[storage_df[\"Method\"]!=\"DSC\"].groupby([\"Dataset\",\"Method\"])[\"Pre RMSPE\"].describe()"
   ]
  },
  {
   "cell_type": "code",
   "execution_count": 64,
   "metadata": {
    "scrolled": false
   },
   "outputs": [
    {
     "data": {
      "text/html": [
       "<div>\n",
       "<style scoped>\n",
       "    .dataframe tbody tr th:only-of-type {\n",
       "        vertical-align: middle;\n",
       "    }\n",
       "\n",
       "    .dataframe tbody tr th {\n",
       "        vertical-align: top;\n",
       "    }\n",
       "\n",
       "    .dataframe thead th {\n",
       "        text-align: right;\n",
       "    }\n",
       "</style>\n",
       "<table border=\"1\" class=\"dataframe\">\n",
       "  <thead>\n",
       "    <tr style=\"text-align: right;\">\n",
       "      <th></th>\n",
       "      <th></th>\n",
       "      <th>count</th>\n",
       "      <th>mean</th>\n",
       "      <th>std</th>\n",
       "      <th>min</th>\n",
       "      <th>25%</th>\n",
       "      <th>50%</th>\n",
       "      <th>75%</th>\n",
       "      <th>max</th>\n",
       "    </tr>\n",
       "    <tr>\n",
       "      <th>Dataset</th>\n",
       "      <th>Method</th>\n",
       "      <th></th>\n",
       "      <th></th>\n",
       "      <th></th>\n",
       "      <th></th>\n",
       "      <th></th>\n",
       "      <th></th>\n",
       "      <th></th>\n",
       "      <th></th>\n",
       "    </tr>\n",
       "  </thead>\n",
       "  <tbody>\n",
       "    <tr>\n",
       "      <th rowspan=\"3\" valign=\"top\">basque_data</th>\n",
       "      <th>DSC_pen</th>\n",
       "      <td>17.0</td>\n",
       "      <td>0.360865</td>\n",
       "      <td>0.279662</td>\n",
       "      <td>0.052674</td>\n",
       "      <td>0.227866</td>\n",
       "      <td>0.272679</td>\n",
       "      <td>0.514760</td>\n",
       "      <td>1.198214</td>\n",
       "    </tr>\n",
       "    <tr>\n",
       "      <th>SC</th>\n",
       "      <td>17.0</td>\n",
       "      <td>0.613536</td>\n",
       "      <td>0.530151</td>\n",
       "      <td>0.149917</td>\n",
       "      <td>0.261849</td>\n",
       "      <td>0.468603</td>\n",
       "      <td>0.679174</td>\n",
       "      <td>2.058255</td>\n",
       "    </tr>\n",
       "    <tr>\n",
       "      <th>SC_pen</th>\n",
       "      <td>17.0</td>\n",
       "      <td>0.519704</td>\n",
       "      <td>0.388969</td>\n",
       "      <td>0.079737</td>\n",
       "      <td>0.258782</td>\n",
       "      <td>0.391333</td>\n",
       "      <td>0.710490</td>\n",
       "      <td>1.623908</td>\n",
       "    </tr>\n",
       "    <tr>\n",
       "      <th rowspan=\"3\" valign=\"top\">german_reunification</th>\n",
       "      <th>DSC_pen</th>\n",
       "      <td>16.0</td>\n",
       "      <td>1747.066117</td>\n",
       "      <td>1590.048856</td>\n",
       "      <td>364.655930</td>\n",
       "      <td>882.791983</td>\n",
       "      <td>1256.291722</td>\n",
       "      <td>1864.496583</td>\n",
       "      <td>6590.173748</td>\n",
       "    </tr>\n",
       "    <tr>\n",
       "      <th>SC</th>\n",
       "      <td>16.0</td>\n",
       "      <td>1934.764618</td>\n",
       "      <td>1480.860719</td>\n",
       "      <td>452.781331</td>\n",
       "      <td>876.470483</td>\n",
       "      <td>1211.107867</td>\n",
       "      <td>2979.081253</td>\n",
       "      <td>4903.074522</td>\n",
       "    </tr>\n",
       "    <tr>\n",
       "      <th>SC_pen</th>\n",
       "      <td>16.0</td>\n",
       "      <td>1841.985706</td>\n",
       "      <td>1412.902572</td>\n",
       "      <td>452.781545</td>\n",
       "      <td>876.896285</td>\n",
       "      <td>1211.116662</td>\n",
       "      <td>2773.197254</td>\n",
       "      <td>4903.070663</td>\n",
       "    </tr>\n",
       "    <tr>\n",
       "      <th rowspan=\"3\" valign=\"top\">smoking_data</th>\n",
       "      <th>DSC_pen</th>\n",
       "      <td>38.0</td>\n",
       "      <td>12.903604</td>\n",
       "      <td>8.416403</td>\n",
       "      <td>2.779227</td>\n",
       "      <td>5.485051</td>\n",
       "      <td>11.211970</td>\n",
       "      <td>17.293285</td>\n",
       "      <td>32.632885</td>\n",
       "    </tr>\n",
       "    <tr>\n",
       "      <th>SC</th>\n",
       "      <td>38.0</td>\n",
       "      <td>13.761006</td>\n",
       "      <td>8.683025</td>\n",
       "      <td>1.991559</td>\n",
       "      <td>7.400004</td>\n",
       "      <td>11.525945</td>\n",
       "      <td>17.279512</td>\n",
       "      <td>41.164310</td>\n",
       "    </tr>\n",
       "    <tr>\n",
       "      <th>SC_pen</th>\n",
       "      <td>38.0</td>\n",
       "      <td>13.156449</td>\n",
       "      <td>8.675855</td>\n",
       "      <td>1.991559</td>\n",
       "      <td>7.206910</td>\n",
       "      <td>11.156274</td>\n",
       "      <td>17.289061</td>\n",
       "      <td>47.254400</td>\n",
       "    </tr>\n",
       "  </tbody>\n",
       "</table>\n",
       "</div>"
      ],
      "text/plain": [
       "                              count         mean          std         min  \\\n",
       "Dataset              Method                                                 \n",
       "basque_data          DSC_pen   17.0     0.360865     0.279662    0.052674   \n",
       "                     SC        17.0     0.613536     0.530151    0.149917   \n",
       "                     SC_pen    17.0     0.519704     0.388969    0.079737   \n",
       "german_reunification DSC_pen   16.0  1747.066117  1590.048856  364.655930   \n",
       "                     SC        16.0  1934.764618  1480.860719  452.781331   \n",
       "                     SC_pen    16.0  1841.985706  1412.902572  452.781545   \n",
       "smoking_data         DSC_pen   38.0    12.903604     8.416403    2.779227   \n",
       "                     SC        38.0    13.761006     8.683025    1.991559   \n",
       "                     SC_pen    38.0    13.156449     8.675855    1.991559   \n",
       "\n",
       "                                     25%          50%          75%  \\\n",
       "Dataset              Method                                          \n",
       "basque_data          DSC_pen    0.227866     0.272679     0.514760   \n",
       "                     SC         0.261849     0.468603     0.679174   \n",
       "                     SC_pen     0.258782     0.391333     0.710490   \n",
       "german_reunification DSC_pen  882.791983  1256.291722  1864.496583   \n",
       "                     SC       876.470483  1211.107867  2979.081253   \n",
       "                     SC_pen   876.896285  1211.116662  2773.197254   \n",
       "smoking_data         DSC_pen    5.485051    11.211970    17.293285   \n",
       "                     SC         7.400004    11.525945    17.279512   \n",
       "                     SC_pen     7.206910    11.156274    17.289061   \n",
       "\n",
       "                                      max  \n",
       "Dataset              Method                \n",
       "basque_data          DSC_pen     1.198214  \n",
       "                     SC          2.058255  \n",
       "                     SC_pen      1.623908  \n",
       "german_reunification DSC_pen  6590.173748  \n",
       "                     SC       4903.074522  \n",
       "                     SC_pen   4903.070663  \n",
       "smoking_data         DSC_pen    32.632885  \n",
       "                     SC         41.164310  \n",
       "                     SC_pen     47.254400  "
      ]
     },
     "execution_count": 64,
     "metadata": {},
     "output_type": "execute_result"
    }
   ],
   "source": [
    "storage_df.loc[storage_df[\"Method\"]!=\"DSC\"].groupby([\"Dataset\",\"Method\"])[\"Post RMSPE\"].describe()"
   ]
  },
  {
   "cell_type": "markdown",
   "metadata": {},
   "source": [
    "## Visualizing it\n",
    "\n",
    "(Best visualization in still TBD, so far tables are most convincing IMO)"
   ]
  },
  {
   "cell_type": "code",
   "execution_count": 32,
   "metadata": {},
   "outputs": [
    {
     "data": {
      "text/plain": [
       "<pandas.core.groupby.generic.SeriesGroupBy object at 0x136f51940>"
      ]
     },
     "execution_count": 32,
     "metadata": {},
     "output_type": "execute_result"
    }
   ],
   "source": [
    "#Make seperate DFs\n",
    "sc_df = storage_df.loc[storage_df[\"Method\"]==\"SC\"]\n",
    "dsc_df = storage_df.loc[storage_df[\"Method\"]==\"DSC\"]\n",
    "sc_pen_df = storage_df.loc[storage_df[\"Method\"]==\"SC_pen\"]\n",
    "dsc_pen_df = storage_df.loc[storage_df[\"Method\"]==\"DSC_pen\"]"
   ]
  },
  {
   "cell_type": "markdown",
   "metadata": {},
   "source": [
    "# Violin Plots"
   ]
  },
  {
   "cell_type": "code",
   "execution_count": 24,
   "metadata": {
    "scrolled": true
   },
   "outputs": [
    {
     "data": {
      "image/png": "[encoded data removed]",
      "text/plain": [
       "<Figure size 432x288 with 1 Axes>"
      ]
     },
     "metadata": {
      "needs_background": "light"
     },
     "output_type": "display_data"
    }
   ],
   "source": [
    "sns.violinplot(x='Method', y='Pre RMSPE', data=storage_df, order=[ \"SC\", \"SC_pen\", \"DSC\", \"DSC_pen\"])\n",
    "plt.show()"
   ]
  },
  {
   "cell_type": "code",
   "execution_count": 25,
   "metadata": {},
   "outputs": [
    {
     "data": {
      "image/png": "[encoded data removed]",
      "text/plain": [
       "<Figure size 432x288 with 1 Axes>"
      ]
     },
     "metadata": {
      "needs_background": "light"
     },
     "output_type": "display_data"
    }
   ],
   "source": [
    "sns.violinplot(x='Method', y='Post RMSPE', data=storage_df, order=[ \"SC\", \"SC_pen\", \"DSC\", \"DSC_pen\"])\n",
    "plt.show()"
   ]
  },
  {
   "cell_type": "code",
   "execution_count": 55,
   "metadata": {},
   "outputs": [],
   "source": [
    "def violin_plot(statistic, dataset):    \n",
    "    sns.violinplot(x='Method', y=statistic, data=storage_df.loc[storage_df[\"Dataset\"]==dataset],\n",
    "                   order=[ \"SC\", \"SC_pen\", \"DSC\", \"DSC_pen\"],\n",
    "                   title=dataset + \" : \" + statistic,\n",
    "                   showmeans=True, showextrema=True, showmedians=True)\n",
    "    plt.show()"
   ]
  },
  {
   "cell_type": "code",
   "execution_count": 56,
   "metadata": {},
   "outputs": [
    {
     "data": {
      "image/png": "[encoded data removed]",
      "text/plain": [
       "<Figure size 432x288 with 1 Axes>"
      ]
     },
     "metadata": {
      "needs_background": "light"
     },
     "output_type": "display_data"
    }
   ],
   "source": [
    "violin_plot('Post RMSPE', \"smoking_data\")"
   ]
  },
  {
   "cell_type": "code",
   "execution_count": 60,
   "metadata": {},
   "outputs": [
    {
     "data": {
      "image/png": "[encoded data removed]",
      "text/plain": [
       "<Figure size 432x288 with 1 Axes>"
      ]
     },
     "metadata": {
      "needs_background": "light"
     },
     "output_type": "display_data"
    }
   ],
   "source": [
    "violin_plot('Post RMSPE', \"german_reunification\")"
   ]
  },
  {
   "cell_type": "code",
   "execution_count": 61,
   "metadata": {},
   "outputs": [
    {
     "data": {
      "image/png": "[encoded data removed]",
      "text/plain": [
       "<Figure size 432x288 with 1 Axes>"
      ]
     },
     "metadata": {
      "needs_background": "light"
     },
     "output_type": "display_data"
    }
   ],
   "source": [
    "violin_plot('Post RMSPE', \"basque_data\")"
   ]
  },
  {
   "cell_type": "markdown",
   "metadata": {},
   "source": [
    "# Kernel Density Histograms"
   ]
  },
  {
   "cell_type": "code",
   "execution_count": 44,
   "metadata": {},
   "outputs": [
    {
     "data": {
      "image/png": "[encoded data removed]",
      "text/plain": [
       "<Figure size 432x288 with 1 Axes>"
      ]
     },
     "metadata": {
      "needs_background": "light"
     },
     "output_type": "display_data"
    }
   ],
   "source": [
    "ax = storage_df.loc[storage_df[\"Dataset\"] == \"smoking_data\"].groupby(\"Method\")[\"Post/pre RMSPE ratio\"].plot(kind=\"density\", subplots=True)\n",
    "ax = storage_df.groupby([\"Dataset\", \"Method\"])[\"Post/pre RMSPE ratio\"].plot(kind=\"density\", subplots=True)\n"
   ]
  },
  {
   "cell_type": "code",
   "execution_count": 30,
   "metadata": {},
   "outputs": [
    {
     "data": {
      "image/png": "[encoded data removed]",
      "text/plain": [
       "<Figure size 432x288 with 1 Axes>"
      ]
     },
     "metadata": {
      "needs_background": "light"
     },
     "output_type": "display_data"
    }
   ],
   "source": [
    "sns.kdeplot(x='Pre RMSPE', data=storage_df, columns=[ \"SC\", \"SC_pen\", \"DSC\", \"DSC_pen\"])\n",
    "plt.show()"
   ]
  }
 ],
 "metadata": {
  "kernelspec": {
   "display_name": "Python 3",
   "language": "python",
   "name": "python3"
  },
  "language_info": {
   "codemirror_mode": {
    "name": "ipython",
    "version": 3
   },
   "file_extension": ".py",
   "mimetype": "text/x-python",
   "name": "python",
   "nbconvert_exporter": "python",
   "pygments_lexer": "ipython3",
   "version": "3.8.1"
  }
 },
 "nbformat": 4,
 "nbformat_minor": 4
}
